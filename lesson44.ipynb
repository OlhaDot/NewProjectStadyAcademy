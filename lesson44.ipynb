{
 "cells": [
  {
   "cell_type": "code",
   "execution_count": 53,
   "metadata": {},
   "outputs": [],
   "source": [
    "import pandas as pd\n",
    "import matplotlib.pyplot as plt\n",
    "import numpy as np"
   ]
  },
  {
   "cell_type": "code",
   "execution_count": 54,
   "metadata": {},
   "outputs": [
    {
     "name": "stdout",
     "output_type": "stream",
     "text": [
      "   PassengerId  Survived  Pclass  \\\n",
      "0            1         0       3   \n",
      "1            2         1       1   \n",
      "2            3         1       3   \n",
      "3            4         1       1   \n",
      "4            5         0       3   \n",
      "\n",
      "                                                Name     Sex   Age  SibSp  \\\n",
      "0                            Braund, Mr. Owen Harris    male  22.0      1   \n",
      "1  Cumings, Mrs. John Bradley (Florence Briggs Th...  female  38.0      1   \n",
      "2                             Heikkinen, Miss. Laina  female  26.0      0   \n",
      "3       Futrelle, Mrs. Jacques Heath (Lily May Peel)  female  35.0      1   \n",
      "4                           Allen, Mr. William Henry    male  35.0      0   \n",
      "\n",
      "   Parch            Ticket     Fare Cabin Embarked  \n",
      "0      0         A/5 21171   7.2500   NaN        S  \n",
      "1      0          PC 17599  71.2833   C85        C  \n",
      "2      0  STON/O2. 3101282   7.9250   NaN        S  \n",
      "3      0            113803  53.1000  C123        S  \n",
      "4      0            373450   8.0500   NaN        S  \n"
     ]
    }
   ],
   "source": [
    "url ='https://raw.githubusercontent.com/OlhaDot/NewProjectStadyAcademy/master/train.txt'\n",
    "df = pd.read_csv(url,delimiter=',' )\n",
    "\n",
    "print(df.head(5))\n"
   ]
  },
  {
   "cell_type": "code",
   "execution_count": 55,
   "metadata": {},
   "outputs": [
    {
     "data": {
      "image/png": "[encoded data removed]",
      "text/plain": [
       "<Figure size 640x480 with 1 Axes>"
      ]
     },
     "metadata": {},
     "output_type": "display_data"
    }
   ],
   "source": [
    "plt.hist(df['Age'], bins=8, color='blue')\n",
    "plt.xlabel('Age')\n",
    "plt.ylabel('Count')\n",
    "plt.title('Age Distribution')\n",
    "plt.show()"
   ]
  },
  {
   "cell_type": "code",
   "execution_count": 56,
   "metadata": {},
   "outputs": [],
   "source": [
    "# df.describe()"
   ]
  },
  {
   "cell_type": "code",
   "execution_count": 57,
   "metadata": {},
   "outputs": [
    {
     "name": "stdout",
     "output_type": "stream",
     "text": [
      "кількість пропущених значень в Age невелика і пропущені значення мають невелике відхилення від середнього - тому заміняємо на середнє\n"
     ]
    }
   ],
   "source": [
    "# age_null_df = df[df['Age'].isnull() == True]\n",
    "# print(age_null_df)\n",
    "\n",
    "# кількість пропущених значень невелика і пропущені значення мають невелике відхилення від середнього - тому заміняємо на середнє\n",
    "print(\"кількість пропущених значень в Age невелика і пропущені значення мають невелике відхилення від середнього - тому заміняємо на середнє\")\n",
    "df['Age'].fillna(df['Age'].mean(), inplace = True)"
   ]
  },
  {
   "cell_type": "code",
   "execution_count": 58,
   "metadata": {},
   "outputs": [
    {
     "name": "stdout",
     "output_type": "stream",
     "text": [
      "'Unknown' для поля Cabin, оскільки відомості про Cabin відсутні у більшості випадків (77%)\n"
     ]
    }
   ],
   "source": [
    "# Cabin_null_df = df[df['Cabin'].isnull() == True]\n",
    "# print(Cabin_null_df)\n",
    "# Cabin_null_df.count()/ df.count()\n",
    "\n",
    "# \"Unknown\", оскільки відомості про кабіну відсутні у більшості випадків (77%)\n",
    "print(\"'Unknown' для поля Cabin, оскільки відомості про Cabin відсутні у більшості випадків (77%)\")\n",
    "df['Cabin'].replace(np.NaN, 'Unknown', inplace = True)\n",
    "\n",
    "# unique_elements = df['Cabin'].unique()\n",
    "# print(unique_elements)"
   ]
  },
  {
   "cell_type": "code",
   "execution_count": 59,
   "metadata": {},
   "outputs": [
    {
     "name": "stdout",
     "output_type": "stream",
     "text": [
      "поле Embarked заповнюємо значенням S оскільки не хватає всього лише двох значень більше 70% значень відповідають значенням S\n"
     ]
    }
   ],
   "source": [
    "# Embarked_null_df = df[df['Embarked'].isnull() == True]\n",
    "# print(Embarked_null_df)\n",
    "\n",
    "# df['Embarked'].unique()\n",
    "# unique_counts = df['Embarked'].value_counts()\n",
    "# print(unique_counts/df['Embarked'].count())\n",
    "\n",
    "# поле заповнюємо значенням S оскільки не хватає всього лише двох значень більше 70% значень відповідають значенням S\n",
    "print(\"поле Embarked заповнюємо значенням S оскільки не хватає всього лише двох значень більше 70% значень відповідають значенням S\")\n",
    "df['Embarked'].replace(np.NaN, 'S', inplace = True)"
   ]
  }
 ],
 "metadata": {
  "kernelspec": {
   "display_name": "Python 3",
   "language": "python",
   "name": "python3"
  },
  "language_info": {
   "codemirror_mode": {
    "name": "ipython",
    "version": 3
   },
   "file_extension": ".py",
   "mimetype": "text/x-python",
   "name": "python",
   "nbconvert_exporter": "python",
   "pygments_lexer": "ipython3",
   "version": "3.10.4"
  },
  "orig_nbformat": 4
 },
 "nbformat": 4,
 "nbformat_minor": 2
}

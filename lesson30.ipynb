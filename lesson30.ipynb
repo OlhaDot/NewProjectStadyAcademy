{
  "nbformat": 4,
  "nbformat_minor": 0,
  "metadata": {
    "colab": {
      "provenance": [],
      "authorship_tag": "ABX9TyO6jtyKVw97KGqgn76CxzXN",
      "include_colab_link": true
    },
    "kernelspec": {
      "name": "python3",
      "display_name": "Python 3"
    },
    "language_info": {
      "name": "python"
    }
  },
  "cells": [
    {
      "cell_type": "markdown",
      "metadata": {
        "id": "view-in-github",
        "colab_type": "text"
      },
      "source": [
        "<a href=\"https://colab.research.google.com/github/OlhaDot/NewProjectStadyAcademy/blob/master/lesson30.ipynb\" target=\"_parent\"><img src=\"https://colab.research.google.com/assets/colab-badge.svg\" alt=\"Open In Colab\"/></a>"
      ]
    },
    {
      "cell_type": "code",
      "execution_count": 1,
      "metadata": {
        "id": "ic3VyfGJRSZa"
      },
      "outputs": [],
      "source": [
        "# task 1\n",
        "class HashTable:\n",
        "\n",
        "    def __init__(self, size):\n",
        "        self.size = size\n",
        "        self.table = [[] for _ in range(size)]\n",
        "\n",
        "    def _hash_func(self, key):\n",
        "        return hash(key) % self.size\n",
        "\n",
        "    def add(self, key, value):\n",
        "        index = self._hash_func(key)\n",
        "        for element in self.table[index]:\n",
        "            if element[0] == key:\n",
        "                element[1] = value\n",
        "                return\n",
        "        self.table[index].append([key, value])\n",
        "\n",
        "    def get(self, key):\n",
        "        index = self._hash_func(key)\n",
        "        for element in self.table[index]:\n",
        "            if element[0] == key:\n",
        "                return element[1]\n",
        "        raise KeyError('Key not found')\n",
        "\n",
        "    def remove(self, key):\n",
        "        index = self._hash_func(key)\n",
        "        for i, element in enumerate(self.table[index]):\n",
        "            if element[0] == key:\n",
        "                del self.table[index][i]\n",
        "                return\n",
        "        raise KeyError('Key not found')\n",
        "\n",
        "    def print_table(self):\n",
        "        for index, element in enumerate(self.table):\n",
        "            print(f'{index}: {element}')\n",
        "\n",
        "    def fix_collisions(self):\n",
        "        pass # no collisions because of replacing method\n",
        "\n",
        "# my_table = HashTable(20)\n",
        "# my_table.add(0, \"first\")\n",
        "# my_table.add(1, \"two\")\n",
        "# my_table.add(1, \"three\")\n",
        "# my_table.add(2, \"four\")\n",
        "# my_table.remove(2)\n",
        "# print(my_table.get(0))\n",
        "# my_table.print_table()"
      ]
    },
    {
      "cell_type": "code",
      "source": [
        "# task2\n",
        "import hashlib\n",
        "\n",
        "users = HashTable(20)\n",
        "\n",
        "# registration user\n",
        "def register():\n",
        "    while True:\n",
        "        login = input(\"Enter your login: \")\n",
        "        password = input(\"Enter your password: \")\n",
        "\n",
        "        salt = b'salt_value'  # sault is a password\n",
        "        password = password.encode('utf-8') \n",
        "        hashed_password = hashlib.pbkdf2_hmac('sha256', password, salt, 100000)  \n",
        "\n",
        "        if login in users:\n",
        "            print(\"This login is already taken. Please choose another one.\")\n",
        "        else:\n",
        "            users[login] = hashed_password\n",
        "            print(\"You have been successfully registered.\")\n",
        "            break\n",
        "\n",
        "\n",
        "# autorization user\n",
        "def login():\n",
        "    while True:\n",
        "        login = input(\"Enter your login: \")\n",
        "        password = input(\"Enter your password: \")\n",
        "\n",
        "        if login not in users:\n",
        "            print(\"Invalid login or password. Please try again.\")\n",
        "        else:\n",
        "            salt = b'salt_value'\n",
        "            password = password.encode('utf-8')\n",
        "            hashed_password = hashlib.pbkdf2_hmac('sha256', password, salt, 100000)\n",
        "            if hashed_password == users[login]:\n",
        "                print(\"You have been successfully logged in.\")\n",
        "                break\n",
        "            else:\n",
        "                print(\"Invalid login or password. Please try again.\")\n"
      ],
      "metadata": {
        "id": "U5pS2Nv_RZaR"
      },
      "execution_count": 8,
      "outputs": []
    }
  ]
}
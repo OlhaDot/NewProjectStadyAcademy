{
 "cells": [
  {
   "cell_type": "code",
   "execution_count": 128,
   "metadata": {},
   "outputs": [],
   "source": [
    "import pandas as pd\n",
    "import matplotlib.pyplot as plt\n",
    "import numpy as np\n",
    "\n",
    "from sklearn.linear_model import LinearRegression\n",
    "from sklearn.preprocessing import PolynomialFeatures"
   ]
  },
  {
   "cell_type": "code",
   "execution_count": 129,
   "metadata": {},
   "outputs": [
    {
     "name": "stdout",
     "output_type": "stream",
     "text": [
      "            Position  Level  Salary\n",
      "0   Business Analyst      1   45000\n",
      "1  Junior Consultant      2   50000\n",
      "2  Senior Consultant      3   60000\n",
      "3            Manager      4   80000\n",
      "4    Country Manager      5  110000\n"
     ]
    }
   ],
   "source": [
    "url = 'https://raw.githubusercontent.com/Startup-acdm/PDS4/main/Lessons/Lesson%2037/Position_Salaries.csv?token=GHSAT0AAAAAACBPO2BY4FFXJF6HCRLK3GTYZCJRYMA'\n",
    "df = pd.read_csv(url)\n",
    "\n",
    "print(df.head())"
   ]
  },
  {
   "cell_type": "code",
   "execution_count": 130,
   "metadata": {},
   "outputs": [
    {
     "data": {
      "text/plain": [
       "(array([[ 1],\n",
       "        [ 2],\n",
       "        [ 3],\n",
       "        [ 4],\n",
       "        [ 5],\n",
       "        [ 6],\n",
       "        [ 7],\n",
       "        [ 8],\n",
       "        [ 9],\n",
       "        [10]]),\n",
       " array([  45000,   50000,   60000,   80000,  110000,  150000,  200000,\n",
       "         300000,  500000, 1000000]))"
      ]
     },
     "execution_count": 130,
     "metadata": {},
     "output_type": "execute_result"
    }
   ],
   "source": [
    "X = df.iloc[:, 1:2].values\n",
    "y = df.iloc[:, 2].values\n",
    "X, y"
   ]
  },
  {
   "cell_type": "code",
   "execution_count": 131,
   "metadata": {},
   "outputs": [
    {
     "data": {
      "image/png": "[encoded data removed]",
      "text/plain": [
       "<Figure size 640x480 with 1 Axes>"
      ]
     },
     "metadata": {},
     "output_type": "display_data"
    }
   ],
   "source": [
    "#polynomial fit with degree = 4\n",
    "poly_reg = PolynomialFeatures(degree = 4)\n",
    "X_poly = poly_reg.fit_transform(X)\n",
    "\n",
    "lin_reg = LinearRegression()\n",
    "lin_reg.fit(X_poly, y)\n",
    "\n",
    "\n",
    "plt.scatter(X, y)\n",
    "plt.plot(X, lin_reg.predict(poly_reg.fit_transform(X)))\n",
    "plt.title('Polynomial Regression')\n",
    "plt.show()"
   ]
  },
  {
   "attachments": {},
   "cell_type": "markdown",
   "metadata": {},
   "source": [
    "task 2"
   ]
  },
  {
   "cell_type": "code",
   "execution_count": 132,
   "metadata": {},
   "outputs": [],
   "source": [
    "from sklearn.linear_model import Ridge, Lasso, ElasticNet\n",
    "from sklearn.model_selection import train_test_split\n",
    "from sklearn.metrics import mean_squared_error\n"
   ]
  },
  {
   "cell_type": "code",
   "execution_count": 133,
   "metadata": {},
   "outputs": [
    {
     "data": {
      "text/plain": [
       "array([[8.000e+00,       nan,       nan, ..., 3.200e-01, 1.400e-01,\n",
       "        2.000e-01],\n",
       "       [5.300e+01,       nan,       nan, ..., 0.000e+00,       nan,\n",
       "        6.700e-01],\n",
       "       [2.400e+01,       nan,       nan, ..., 0.000e+00,       nan,\n",
       "        4.300e-01],\n",
       "       ...,\n",
       "       [9.000e+00, 9.000e+00, 8.007e+04, ..., 9.100e-01, 2.800e-01,\n",
       "        2.300e-01],\n",
       "       [2.500e+01, 1.700e+01, 7.260e+04, ..., 2.200e-01, 1.800e-01,\n",
       "        1.900e-01],\n",
       "       [6.000e+00,       nan,       nan, ..., 1.000e+00, 1.300e-01,\n",
       "        4.800e-01]])"
      ]
     },
     "execution_count": 133,
     "metadata": {},
     "output_type": "execute_result"
    }
   ],
   "source": [
    "from numpy import genfromtxt\n",
    "dataset = genfromtxt('https://raw.githubusercontent.com/Startup-acdm/PDS4/main/Lessons/Lesson%2037/communities.csv?token=GHSAT0AAAAAACBPO2BZHQM6ZCULHJYVVLQAZCJQQYA', delimiter=',')\n",
    "dataset "
   ]
  },
  {
   "cell_type": "code",
   "execution_count": 137,
   "metadata": {},
   "outputs": [],
   "source": [
    "# inplace NaN values\n",
    "df = pd.DataFrame(dataset)\n",
    "df.fillna(0, inplace=True)\n",
    "dataset = np.array(df)"
   ]
  },
  {
   "cell_type": "code",
   "execution_count": 138,
   "metadata": {},
   "outputs": [],
   "source": [
    "X = dataset[:, :-1]\n",
    "y = dataset[:,-1]\n",
    "# X,y\n",
    "X_train, X_test, y_train, y_test = train_test_split(X, y, test_size=0.2, random_state=0)"
   ]
  },
  {
   "cell_type": "code",
   "execution_count": 140,
   "metadata": {},
   "outputs": [
    {
     "name": "stdout",
     "output_type": "stream",
     "text": [
      "LinRegr with train data 0.7097676771879318\n",
      "LinRegr with test data 0.6575035475519477\n"
     ]
    }
   ],
   "source": [
    "lr = LinearRegression().fit(X_train, y_train)\n",
    "print(\"LinRegr with train data:\", lr.score(X_train, y_train))\n",
    "print(\"LinRegr with test data:\", lr.score(X_test, y_test))"
   ]
  },
  {
   "cell_type": "code",
   "execution_count": 157,
   "metadata": {},
   "outputs": [
    {
     "name": "stdout",
     "output_type": "stream",
     "text": [
      "The best option is Ridge, score = 0.6601116848463167\n"
     ]
    }
   ],
   "source": [
    "alphas = [0.01, 0.1, 0.7, 1]\n",
    "\n",
    "# Ridge regularization\n",
    "ridge_scores_train = []\n",
    "ridge_scores_test = []\n",
    "for alpha in alphas:\n",
    "    ridge = Ridge(alpha=alpha).fit(X_train, y_train)\n",
    "    ridge_scores_train.append(ridge.score(X_train, y_train))\n",
    "    ridge_scores_test.append(ridge.score(X_test, y_test))\n",
    "\n",
    "# Lasso regularization\n",
    "lasso_scores_train = []\n",
    "lasso_scores_test = []\n",
    "for alpha in alphas:\n",
    "    lasso = Lasso(alpha=alpha).fit(X_train, y_train)\n",
    "    lasso_scores_train.append(lasso.score(X_train, y_train))\n",
    "    lasso_scores_test.append(lasso.score(X_test, y_test))\n",
    "\n",
    "\n",
    "# Elastic Net regularization\n",
    "elastic_scores_train = []\n",
    "elastic_scores_test = []\n",
    "for alpha in alphas:\n",
    "    elastic = ElasticNet(alpha=alpha, l1_ratio=0.5).fit(X_train, y_train)\n",
    "    elastic_scores_train.append(elastic.score(X_train, y_train))\n",
    "    elastic_scores_test.append(elastic.score(X_test, y_test))\n",
    "\n",
    "# print('Ridge scores train:', ridge_scores_train)\n",
    "# print('Lasso scores train:', lasso_scores_train)\n",
    "# print('Elastic Net scores train:', elastic_scores_train)\n",
    "# print()\n",
    "\n",
    "# print('Ridge scores test:', ridge_scores_test)\n",
    "# print('Lasso scores test:', lasso_scores_test)\n",
    "# print('Elastic Net scores test:', elastic_scores_test)\n",
    "# print()\n",
    "\n",
    "# print('Max Ridge scores test:', max(ridge_scores_test))\n",
    "# print('Max Lasso scores test:', max(lasso_scores_test))\n",
    "# print('Max Elastic Net scores test:', max(elastic_scores_test))\n",
    "\n",
    "Max_Ridge_scores_test = max(ridge_scores_test)\n",
    "Max_Lasso_scores_test = max(lasso_scores_test)\n",
    "Max_Elastic_Net_scores_test = max(elastic_scores_test)\n",
    "\n",
    "max_value = max(Max_Ridge_scores_test, Max_Lasso_scores_test, Max_Elastic_Net_scores_test)\n",
    "if max_value == Max_Ridge_scores_test:\n",
    "    print('The best option is Ridge, score =',  Max_Ridge_scores_test)\n",
    "elif max_value == Max_Lasso_scores_test:\n",
    "        print('The best option is Lasso, score =',  Max_Lasso_scores_test)\n",
    "elif max_value == Max_Elastic_Net_scores_test:\n",
    "        print('The best option is ElasticNet, score =',  Max_Elastic_Net_scores_test)\n",
    "\n",
    "\n",
    "\n",
    "\n",
    "\n"
   ]
  }
 ],
 "metadata": {
  "kernelspec": {
   "display_name": "Python 3",
   "language": "python",
   "name": "python3"
  },
  "language_info": {
   "codemirror_mode": {
    "name": "ipython",
    "version": 3
   },
   "file_extension": ".py",
   "mimetype": "text/x-python",
   "name": "python",
   "nbconvert_exporter": "python",
   "pygments_lexer": "ipython3",
   "version": "3.10.4"
  },
  "orig_nbformat": 4
 },
 "nbformat": 4,
 "nbformat_minor": 2
}

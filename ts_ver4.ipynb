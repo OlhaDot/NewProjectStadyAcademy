{
  "nbformat": 4,
  "nbformat_minor": 0,
  "metadata": {
    "colab": {
      "provenance": [],
      "authorship_tag": "ABX9TyPaLz04aYZcXgQYPt4PdoQF",
      "include_colab_link": true
    },
    "kernelspec": {
      "name": "python3",
      "display_name": "Python 3"
    },
    "language_info": {
      "name": "python"
    }
  },
  "cells": [
    {
      "cell_type": "markdown",
      "metadata": {
        "id": "view-in-github",
        "colab_type": "text"
      },
      "source": [
        "<a href=\"https://colab.research.google.com/github/OlhaDot/NewProjectStadyAcademy/blob/master/ts_ver4.ipynb\" target=\"_parent\"><img src=\"https://colab.research.google.com/assets/colab-badge.svg\" alt=\"Open In Colab\"/></a>"
      ]
    },
    {
      "cell_type": "code",
      "source": [
        "import pandas as pd\n",
        "import numpy as np\n",
        "import seaborn as sns\n",
        "import matplotlib.pyplot as plt\n",
        "\n",
        "from sklearn.linear_model import LinearRegression\n",
        "from sklearn.model_selection import train_test_split\n",
        "from sklearn import metrics\n",
        "\n",
        "from statsmodels.stats.outliers_influence import variance_inflation_factor\n",
        "import statsmodels.api as sm\n",
        "\n",
        "from datetime import datetime"
      ],
      "metadata": {
        "id": "zHY4sbzkdf6C"
      },
      "execution_count": 250,
      "outputs": []
    },
    {
      "cell_type": "code",
      "source": [
        "url = 'https://raw.githubusercontent.com/OlhaDot/NewProjectStadyAcademy/master/StressTestAval/makro_history_startY_maxDR.csv'\n",
        "data = pd.read_csv(url, sep=';')\n",
        "print(data.head())\n"
      ],
      "metadata": {
        "colab": {
          "base_uri": "https://localhost:8080/"
        },
        "id": "M4zrps-NdgF4",
        "outputId": "ed16f0f6-b324-4c42-dd68-b2e4a718d0ae"
      },
      "execution_count": 252,
      "outputs": [
        {
          "output_type": "stream",
          "name": "stdout",
          "text": [
            "       Date  GDP  Unemployment  CPI_avg  EUR_UAH_avg  USD_UAH_avg  \\\n",
            "0  20121231  0.2           7.5      0.6         10.3          8.0   \n",
            "1  20131231  0.0           7.2     -0.3         10.6          8.0   \n",
            "2  20141231 -6.6           9.3     12.1         15.7         11.9   \n",
            "3  20151231 -9.8           9.1     48.5         24.2         21.8   \n",
            "4  20161231  2.4           9.3     14.9         28.3         25.5   \n",
            "\n",
            "   Key_rate_eop  EUR_UAH_eop  USD_UAH_eop        DR  \n",
            "0           7.5         10.5          8.0  0.062021  \n",
            "1           6.5         11.0          8.0  0.077217  \n",
            "2          14.0         19.2         15.8  0.150833  \n",
            "3          22.0         26.2         24.0  0.285379  \n",
            "4          14.0         28.4         27.2  0.063257  \n"
          ]
        }
      ]
    },
    {
      "cell_type": "code",
      "source": [
        "data2 = data.copy()\n"
      ],
      "metadata": {
        "id": "Ykk-ZLBy39aA"
      },
      "execution_count": 253,
      "outputs": []
    },
    {
      "cell_type": "code",
      "source": [
        "data2.describe()"
      ],
      "metadata": {
        "colab": {
          "base_uri": "https://localhost:8080/",
          "height": 300
        },
        "id": "YxnLYauddgI7",
        "outputId": "288e79ad-0a99-43c5-a542-7e774bb131b7"
      },
      "execution_count": 254,
      "outputs": [
        {
          "output_type": "execute_result",
          "data": {
            "text/plain": [
              "               Date        GDP  Unemployment    CPI_avg  EUR_UAH_avg  \\\n",
              "count  1.200000e+01  12.000000     12.000000  12.000000    12.000000   \n",
              "mean   2.017623e+07  -2.375000     10.108333  12.891667    26.400000   \n",
              "std    3.605551e+04   9.588167      3.161259  12.784185     9.388872   \n",
              "min    2.012123e+07 -29.100000      7.200000  -0.300000    10.300000   \n",
              "25%    2.014873e+07  -4.500000      8.650000   6.600000    22.075000   \n",
              "50%    2.017623e+07   1.300000      9.300000  11.550000    29.450000   \n",
              "75%    2.020373e+07   3.250000      9.600000  14.600000    32.150000   \n",
              "max    2.023123e+07   5.700000     18.000000  48.500000    39.600000   \n",
              "\n",
              "       USD_UAH_avg  Key_rate_eop  EUR_UAH_eop  USD_UAH_eop         DR  \n",
              "count    12.000000     12.000000    12.000000    12.000000  12.000000  \n",
              "mean     23.175000     13.750000    27.808333    24.391667   0.099619  \n",
              "std       9.178941      5.948644     9.991311     9.545914   0.071323  \n",
              "min       8.000000      6.000000    10.500000     8.000000   0.040805  \n",
              "25%      19.325000      8.625000    24.450000    21.725000   0.057360  \n",
              "50%      26.200000     14.000000    29.650000    27.250000   0.074863  \n",
              "75%      27.225000     15.750000    33.800000    28.150000   0.123938  \n",
              "max      36.600000     25.000000    42.200000    38.000000   0.285379  "
            ],
            "text/html": [
              "\n",
              "  <div id=\"df-277f2fb9-71cd-4dac-9694-4fe520bc7c59\" class=\"colab-df-container\">\n",
              "    <div>\n",
              "<style scoped>\n",
              "    .dataframe tbody tr th:only-of-type {\n",
              "        vertical-align: middle;\n",
              "    }\n",
              "\n",
              "    .dataframe tbody tr th {\n",
              "        vertical-align: top;\n",
              "    }\n",
              "\n",
              "    .dataframe thead th {\n",
              "        text-align: right;\n",
              "    }\n",
              "</style>\n",
              "<table border=\"1\" class=\"dataframe\">\n",
              "  <thead>\n",
              "    <tr style=\"text-align: right;\">\n",
              "      <th></th>\n",
              "      <th>Date</th>\n",
              "      <th>GDP</th>\n",
              "      <th>Unemployment</th>\n",
              "      <th>CPI_avg</th>\n",
              "      <th>EUR_UAH_avg</th>\n",
              "      <th>USD_UAH_avg</th>\n",
              "      <th>Key_rate_eop</th>\n",
              "      <th>EUR_UAH_eop</th>\n",
              "      <th>USD_UAH_eop</th>\n",
              "      <th>DR</th>\n",
              "    </tr>\n",
              "  </thead>\n",
              "  <tbody>\n",
              "    <tr>\n",
              "      <th>count</th>\n",
              "      <td>1.200000e+01</td>\n",
              "      <td>12.000000</td>\n",
              "      <td>12.000000</td>\n",
              "      <td>12.000000</td>\n",
              "      <td>12.000000</td>\n",
              "      <td>12.000000</td>\n",
              "      <td>12.000000</td>\n",
              "      <td>12.000000</td>\n",
              "      <td>12.000000</td>\n",
              "      <td>12.000000</td>\n",
              "    </tr>\n",
              "    <tr>\n",
              "      <th>mean</th>\n",
              "      <td>2.017623e+07</td>\n",
              "      <td>-2.375000</td>\n",
              "      <td>10.108333</td>\n",
              "      <td>12.891667</td>\n",
              "      <td>26.400000</td>\n",
              "      <td>23.175000</td>\n",
              "      <td>13.750000</td>\n",
              "      <td>27.808333</td>\n",
              "      <td>24.391667</td>\n",
              "      <td>0.099619</td>\n",
              "    </tr>\n",
              "    <tr>\n",
              "      <th>std</th>\n",
              "      <td>3.605551e+04</td>\n",
              "      <td>9.588167</td>\n",
              "      <td>3.161259</td>\n",
              "      <td>12.784185</td>\n",
              "      <td>9.388872</td>\n",
              "      <td>9.178941</td>\n",
              "      <td>5.948644</td>\n",
              "      <td>9.991311</td>\n",
              "      <td>9.545914</td>\n",
              "      <td>0.071323</td>\n",
              "    </tr>\n",
              "    <tr>\n",
              "      <th>min</th>\n",
              "      <td>2.012123e+07</td>\n",
              "      <td>-29.100000</td>\n",
              "      <td>7.200000</td>\n",
              "      <td>-0.300000</td>\n",
              "      <td>10.300000</td>\n",
              "      <td>8.000000</td>\n",
              "      <td>6.000000</td>\n",
              "      <td>10.500000</td>\n",
              "      <td>8.000000</td>\n",
              "      <td>0.040805</td>\n",
              "    </tr>\n",
              "    <tr>\n",
              "      <th>25%</th>\n",
              "      <td>2.014873e+07</td>\n",
              "      <td>-4.500000</td>\n",
              "      <td>8.650000</td>\n",
              "      <td>6.600000</td>\n",
              "      <td>22.075000</td>\n",
              "      <td>19.325000</td>\n",
              "      <td>8.625000</td>\n",
              "      <td>24.450000</td>\n",
              "      <td>21.725000</td>\n",
              "      <td>0.057360</td>\n",
              "    </tr>\n",
              "    <tr>\n",
              "      <th>50%</th>\n",
              "      <td>2.017623e+07</td>\n",
              "      <td>1.300000</td>\n",
              "      <td>9.300000</td>\n",
              "      <td>11.550000</td>\n",
              "      <td>29.450000</td>\n",
              "      <td>26.200000</td>\n",
              "      <td>14.000000</td>\n",
              "      <td>29.650000</td>\n",
              "      <td>27.250000</td>\n",
              "      <td>0.074863</td>\n",
              "    </tr>\n",
              "    <tr>\n",
              "      <th>75%</th>\n",
              "      <td>2.020373e+07</td>\n",
              "      <td>3.250000</td>\n",
              "      <td>9.600000</td>\n",
              "      <td>14.600000</td>\n",
              "      <td>32.150000</td>\n",
              "      <td>27.225000</td>\n",
              "      <td>15.750000</td>\n",
              "      <td>33.800000</td>\n",
              "      <td>28.150000</td>\n",
              "      <td>0.123938</td>\n",
              "    </tr>\n",
              "    <tr>\n",
              "      <th>max</th>\n",
              "      <td>2.023123e+07</td>\n",
              "      <td>5.700000</td>\n",
              "      <td>18.000000</td>\n",
              "      <td>48.500000</td>\n",
              "      <td>39.600000</td>\n",
              "      <td>36.600000</td>\n",
              "      <td>25.000000</td>\n",
              "      <td>42.200000</td>\n",
              "      <td>38.000000</td>\n",
              "      <td>0.285379</td>\n",
              "    </tr>\n",
              "  </tbody>\n",
              "</table>\n",
              "</div>\n",
              "    <div class=\"colab-df-buttons\">\n",
              "\n",
              "  <div class=\"colab-df-container\">\n",
              "    <button class=\"colab-df-convert\" onclick=\"convertToInteractive('df-277f2fb9-71cd-4dac-9694-4fe520bc7c59')\"\n",
              "            title=\"Convert this dataframe to an interactive table.\"\n",
              "            style=\"display:none;\">\n",
              "\n",
              "  <svg xmlns=\"http://www.w3.org/2000/svg\" height=\"24px\" viewBox=\"0 -960 960 960\">\n",
              "    <path d=\"M120-120v-720h720v720H120Zm60-500h600v-160H180v160Zm220 220h160v-160H400v160Zm0 220h160v-160H400v160ZM180-400h160v-160H180v160Zm440 0h160v-160H620v160ZM180-180h160v-160H180v160Zm440 0h160v-160H620v160Z\"/>\n",
              "  </svg>\n",
              "    </button>\n",
              "\n",
              "  <style>\n",
              "    .colab-df-container {\n",
              "      display:flex;\n",
              "      gap: 12px;\n",
              "    }\n",
              "\n",
              "    .colab-df-convert {\n",
              "      background-color: #E8F0FE;\n",
              "      border: none;\n",
              "      border-radius: 50%;\n",
              "      cursor: pointer;\n",
              "      display: none;\n",
              "      fill: #1967D2;\n",
              "      height: 32px;\n",
              "      padding: 0 0 0 0;\n",
              "      width: 32px;\n",
              "    }\n",
              "\n",
              "    .colab-df-convert:hover {\n",
              "      background-color: #E2EBFA;\n",
              "      box-shadow: 0px 1px 2px rgba(60, 64, 67, 0.3), 0px 1px 3px 1px rgba(60, 64, 67, 0.15);\n",
              "      fill: #174EA6;\n",
              "    }\n",
              "\n",
              "    .colab-df-buttons div {\n",
              "      margin-bottom: 4px;\n",
              "    }\n",
              "\n",
              "    [theme=dark] .colab-df-convert {\n",
              "      background-color: #3B4455;\n",
              "      fill: #D2E3FC;\n",
              "    }\n",
              "\n",
              "    [theme=dark] .colab-df-convert:hover {\n",
              "      background-color: #434B5C;\n",
              "      box-shadow: 0px 1px 3px 1px rgba(0, 0, 0, 0.15);\n",
              "      filter: drop-shadow(0px 1px 2px rgba(0, 0, 0, 0.3));\n",
              "      fill: #FFFFFF;\n",
              "    }\n",
              "  </style>\n",
              "\n",
              "    <script>\n",
              "      const buttonEl =\n",
              "        document.querySelector('#df-277f2fb9-71cd-4dac-9694-4fe520bc7c59 button.colab-df-convert');\n",
              "      buttonEl.style.display =\n",
              "        google.colab.kernel.accessAllowed ? 'block' : 'none';\n",
              "\n",
              "      async function convertToInteractive(key) {\n",
              "        const element = document.querySelector('#df-277f2fb9-71cd-4dac-9694-4fe520bc7c59');\n",
              "        const dataTable =\n",
              "          await google.colab.kernel.invokeFunction('convertToInteractive',\n",
              "                                                    [key], {});\n",
              "        if (!dataTable) return;\n",
              "\n",
              "        const docLinkHtml = 'Like what you see? Visit the ' +\n",
              "          '<a target=\"_blank\" href=https://colab.research.google.com/notebooks/data_table.ipynb>data table notebook</a>'\n",
              "          + ' to learn more about interactive tables.';\n",
              "        element.innerHTML = '';\n",
              "        dataTable['output_type'] = 'display_data';\n",
              "        await google.colab.output.renderOutput(dataTable, element);\n",
              "        const docLink = document.createElement('div');\n",
              "        docLink.innerHTML = docLinkHtml;\n",
              "        element.appendChild(docLink);\n",
              "      }\n",
              "    </script>\n",
              "  </div>\n",
              "\n",
              "\n",
              "<div id=\"df-65df8dae-a594-40e0-9b2e-1bebda093290\">\n",
              "  <button class=\"colab-df-quickchart\" onclick=\"quickchart('df-65df8dae-a594-40e0-9b2e-1bebda093290')\"\n",
              "            title=\"Suggest charts\"\n",
              "            style=\"display:none;\">\n",
              "\n",
              "<svg xmlns=\"http://www.w3.org/2000/svg\" height=\"24px\"viewBox=\"0 0 24 24\"\n",
              "     width=\"24px\">\n",
              "    <g>\n",
              "        <path d=\"M19 3H5c-1.1 0-2 .9-2 2v14c0 1.1.9 2 2 2h14c1.1 0 2-.9 2-2V5c0-1.1-.9-2-2-2zM9 17H7v-7h2v7zm4 0h-2V7h2v10zm4 0h-2v-4h2v4z\"/>\n",
              "    </g>\n",
              "</svg>\n",
              "  </button>\n",
              "\n",
              "<style>\n",
              "  .colab-df-quickchart {\n",
              "      --bg-color: #E8F0FE;\n",
              "      --fill-color: #1967D2;\n",
              "      --hover-bg-color: #E2EBFA;\n",
              "      --hover-fill-color: #174EA6;\n",
              "      --disabled-fill-color: #AAA;\n",
              "      --disabled-bg-color: #DDD;\n",
              "  }\n",
              "\n",
              "  [theme=dark] .colab-df-quickchart {\n",
              "      --bg-color: #3B4455;\n",
              "      --fill-color: #D2E3FC;\n",
              "      --hover-bg-color: #434B5C;\n",
              "      --hover-fill-color: #FFFFFF;\n",
              "      --disabled-bg-color: #3B4455;\n",
              "      --disabled-fill-color: #666;\n",
              "  }\n",
              "\n",
              "  .colab-df-quickchart {\n",
              "    background-color: var(--bg-color);\n",
              "    border: none;\n",
              "    border-radius: 50%;\n",
              "    cursor: pointer;\n",
              "    display: none;\n",
              "    fill: var(--fill-color);\n",
              "    height: 32px;\n",
              "    padding: 0;\n",
              "    width: 32px;\n",
              "  }\n",
              "\n",
              "  .colab-df-quickchart:hover {\n",
              "    background-color: var(--hover-bg-color);\n",
              "    box-shadow: 0 1px 2px rgba(60, 64, 67, 0.3), 0 1px 3px 1px rgba(60, 64, 67, 0.15);\n",
              "    fill: var(--button-hover-fill-color);\n",
              "  }\n",
              "\n",
              "  .colab-df-quickchart-complete:disabled,\n",
              "  .colab-df-quickchart-complete:disabled:hover {\n",
              "    background-color: var(--disabled-bg-color);\n",
              "    fill: var(--disabled-fill-color);\n",
              "    box-shadow: none;\n",
              "  }\n",
              "\n",
              "  .colab-df-spinner {\n",
              "    border: 2px solid var(--fill-color);\n",
              "    border-color: transparent;\n",
              "    border-bottom-color: var(--fill-color);\n",
              "    animation:\n",
              "      spin 1s steps(1) infinite;\n",
              "  }\n",
              "\n",
              "  @keyframes spin {\n",
              "    0% {\n",
              "      border-color: transparent;\n",
              "      border-bottom-color: var(--fill-color);\n",
              "      border-left-color: var(--fill-color);\n",
              "    }\n",
              "    20% {\n",
              "      border-color: transparent;\n",
              "      border-left-color: var(--fill-color);\n",
              "      border-top-color: var(--fill-color);\n",
              "    }\n",
              "    30% {\n",
              "      border-color: transparent;\n",
              "      border-left-color: var(--fill-color);\n",
              "      border-top-color: var(--fill-color);\n",
              "      border-right-color: var(--fill-color);\n",
              "    }\n",
              "    40% {\n",
              "      border-color: transparent;\n",
              "      border-right-color: var(--fill-color);\n",
              "      border-top-color: var(--fill-color);\n",
              "    }\n",
              "    60% {\n",
              "      border-color: transparent;\n",
              "      border-right-color: var(--fill-color);\n",
              "    }\n",
              "    80% {\n",
              "      border-color: transparent;\n",
              "      border-right-color: var(--fill-color);\n",
              "      border-bottom-color: var(--fill-color);\n",
              "    }\n",
              "    90% {\n",
              "      border-color: transparent;\n",
              "      border-bottom-color: var(--fill-color);\n",
              "    }\n",
              "  }\n",
              "</style>\n",
              "\n",
              "  <script>\n",
              "    async function quickchart(key) {\n",
              "      const quickchartButtonEl =\n",
              "        document.querySelector('#' + key + ' button');\n",
              "      quickchartButtonEl.disabled = true;  // To prevent multiple clicks.\n",
              "      quickchartButtonEl.classList.add('colab-df-spinner');\n",
              "      try {\n",
              "        const charts = await google.colab.kernel.invokeFunction(\n",
              "            'suggestCharts', [key], {});\n",
              "      } catch (error) {\n",
              "        console.error('Error during call to suggestCharts:', error);\n",
              "      }\n",
              "      quickchartButtonEl.classList.remove('colab-df-spinner');\n",
              "      quickchartButtonEl.classList.add('colab-df-quickchart-complete');\n",
              "    }\n",
              "    (() => {\n",
              "      let quickchartButtonEl =\n",
              "        document.querySelector('#df-65df8dae-a594-40e0-9b2e-1bebda093290 button');\n",
              "      quickchartButtonEl.style.display =\n",
              "        google.colab.kernel.accessAllowed ? 'block' : 'none';\n",
              "    })();\n",
              "  </script>\n",
              "</div>\n",
              "    </div>\n",
              "  </div>\n"
            ],
            "application/vnd.google.colaboratory.intrinsic+json": {
              "type": "dataframe",
              "summary": "{\n  \"name\": \"data2\",\n  \"rows\": 8,\n  \"fields\": [\n    {\n      \"column\": \"Date\",\n      \"properties\": {\n        \"dtype\": \"number\",\n        \"std\": 9331494.95171059,\n        \"min\": 12.0,\n        \"max\": 20231231.0,\n        \"samples\": [\n          12.0,\n          20176231.0,\n          20203731.0\n        ],\n        \"num_unique_values\": 7,\n        \"semantic_type\": \"\",\n        \"description\": \"\"\n      }\n    },\n    {\n      \"column\": \"GDP\",\n      \"properties\": {\n        \"dtype\": \"number\",\n        \"std\": 12.824290047600755,\n        \"min\": -29.1,\n        \"max\": 12.0,\n        \"samples\": [\n          -2.3750000000000004,\n          1.3,\n          12.0\n        ],\n        \"num_unique_values\": 8,\n        \"semantic_type\": \"\",\n        \"description\": \"\"\n      }\n    },\n    {\n      \"column\": \"Unemployment\",\n      \"properties\": {\n        \"dtype\": \"number\",\n        \"std\": 4.21904454817675,\n        \"min\": 3.1612593386276626,\n        \"max\": 18.0,\n        \"samples\": [\n          10.108333333333333,\n          9.3,\n          12.0\n        ],\n        \"num_unique_values\": 8,\n        \"semantic_type\": \"\",\n        \"description\": \"\"\n      }\n    },\n    {\n      \"column\": \"CPI_avg\",\n      \"properties\": {\n        \"dtype\": \"number\",\n        \"std\": 14.42755979404308,\n        \"min\": -0.3,\n        \"max\": 48.5,\n        \"samples\": [\n          12.891666666666666,\n          11.55,\n          12.0\n        ],\n        \"num_unique_values\": 8,\n        \"semantic_type\": \"\",\n        \"description\": \"\"\n      }\n    },\n    {\n      \"column\": \"EUR_UAH_avg\",\n      \"properties\": {\n        \"dtype\": \"number\",\n        \"std\": 11.212141351985279,\n        \"min\": 9.388871555778634,\n        \"max\": 39.6,\n        \"samples\": [\n          26.400000000000002,\n          29.45,\n          12.0\n        ],\n        \"num_unique_values\": 8,\n        \"semantic_type\": \"\",\n        \"description\": \"\"\n      }\n    },\n    {\n      \"column\": \"USD_UAH_avg\",\n      \"properties\": {\n        \"dtype\": \"number\",\n        \"std\": 10.01048928464039,\n        \"min\": 8.0,\n        \"max\": 36.6,\n        \"samples\": [\n          23.175,\n          26.200000000000003,\n          12.0\n        ],\n        \"num_unique_values\": 8,\n        \"semantic_type\": \"\",\n        \"description\": \"\"\n      }\n    },\n    {\n      \"column\": \"Key_rate_eop\",\n      \"properties\": {\n        \"dtype\": \"number\",\n        \"std\": 6.221125340718902,\n        \"min\": 5.9486438485056095,\n        \"max\": 25.0,\n        \"samples\": [\n          13.75,\n          14.0,\n          12.0\n        ],\n        \"num_unique_values\": 8,\n        \"semantic_type\": \"\",\n        \"description\": \"\"\n      }\n    },\n    {\n      \"column\": \"EUR_UAH_eop\",\n      \"properties\": {\n        \"dtype\": \"number\",\n        \"std\": 11.92884642084811,\n        \"min\": 9.991310618672001,\n        \"max\": 42.2,\n        \"samples\": [\n          27.808333333333334,\n          29.65,\n          12.0\n        ],\n        \"num_unique_values\": 8,\n        \"semantic_type\": \"\",\n        \"description\": \"\"\n      }\n    },\n    {\n      \"column\": \"USD_UAH_eop\",\n      \"properties\": {\n        \"dtype\": \"number\",\n        \"std\": 10.503529913475164,\n        \"min\": 8.0,\n        \"max\": 38.0,\n        \"samples\": [\n          24.39166666666667,\n          27.25,\n          12.0\n        ],\n        \"num_unique_values\": 8,\n        \"semantic_type\": \"\",\n        \"description\": \"\"\n      }\n    },\n    {\n      \"column\": \"DR\",\n      \"properties\": {\n        \"dtype\": \"number\",\n        \"std\": 4.205295669968963,\n        \"min\": 0.040804929,\n        \"max\": 12.0,\n        \"samples\": [\n          0.09961925458333333,\n          0.074863019,\n          12.0\n        ],\n        \"num_unique_values\": 8,\n        \"semantic_type\": \"\",\n        \"description\": \"\"\n      }\n    }\n  ]\n}"
            }
          },
          "metadata": {},
          "execution_count": 254
        }
      ]
    },
    {
      "cell_type": "code",
      "source": [
        "data2.corr()"
      ],
      "metadata": {
        "colab": {
          "base_uri": "https://localhost:8080/",
          "height": 363
        },
        "id": "73h-9iJQdgMA",
        "outputId": "d107e5a5-5207-4826-fe28-e1fb4d109a2b"
      },
      "execution_count": 255,
      "outputs": [
        {
          "output_type": "execute_result",
          "data": {
            "text/plain": [
              "                  Date       GDP  Unemployment   CPI_avg  EUR_UAH_avg  \\\n",
              "Date          1.000000 -0.128722      0.725401  0.050588     0.921120   \n",
              "GDP          -0.128722  1.000000     -0.598506 -0.400830    -0.012593   \n",
              "Unemployment  0.725401 -0.598506      1.000000  0.249420     0.623302   \n",
              "CPI_avg       0.050588 -0.400830      0.249420  1.000000     0.241048   \n",
              "EUR_UAH_avg   0.921120 -0.012593      0.623302  0.241048     1.000000   \n",
              "USD_UAH_avg   0.919525 -0.073642      0.674408  0.275533     0.994210   \n",
              "Key_rate_eop  0.288222 -0.596467      0.598118  0.763537     0.424831   \n",
              "EUR_UAH_eop   0.905074 -0.157540      0.719986  0.285174     0.972741   \n",
              "USD_UAH_eop   0.896062 -0.199033      0.753614  0.345655     0.971996   \n",
              "DR           -0.031595 -0.381463      0.258591  0.799107    -0.002890   \n",
              "\n",
              "              USD_UAH_avg  Key_rate_eop  EUR_UAH_eop  USD_UAH_eop        DR  \n",
              "Date             0.919525      0.288222     0.905074     0.896062 -0.031595  \n",
              "GDP             -0.073642     -0.596467    -0.157540    -0.199033 -0.381463  \n",
              "Unemployment     0.674408      0.598118     0.719986     0.753614  0.258591  \n",
              "CPI_avg          0.275533      0.763537     0.285174     0.345655  0.799107  \n",
              "EUR_UAH_avg      0.994210      0.424831     0.972741     0.971996 -0.002890  \n",
              "USD_UAH_avg      1.000000      0.468887     0.976791     0.983454  0.032596  \n",
              "Key_rate_eop     0.468887      1.000000     0.476802     0.550519  0.472887  \n",
              "EUR_UAH_eop      0.976791      0.476802     1.000000     0.990185  0.086598  \n",
              "USD_UAH_eop      0.983454      0.550519     0.990185     1.000000  0.122591  \n",
              "DR               0.032596      0.472887     0.086598     0.122591  1.000000  "
            ],
            "text/html": [
              "\n",
              "  <div id=\"df-8002aae8-b44c-4426-be03-945a33f56bb2\" class=\"colab-df-container\">\n",
              "    <div>\n",
              "<style scoped>\n",
              "    .dataframe tbody tr th:only-of-type {\n",
              "        vertical-align: middle;\n",
              "    }\n",
              "\n",
              "    .dataframe tbody tr th {\n",
              "        vertical-align: top;\n",
              "    }\n",
              "\n",
              "    .dataframe thead th {\n",
              "        text-align: right;\n",
              "    }\n",
              "</style>\n",
              "<table border=\"1\" class=\"dataframe\">\n",
              "  <thead>\n",
              "    <tr style=\"text-align: right;\">\n",
              "      <th></th>\n",
              "      <th>Date</th>\n",
              "      <th>GDP</th>\n",
              "      <th>Unemployment</th>\n",
              "      <th>CPI_avg</th>\n",
              "      <th>EUR_UAH_avg</th>\n",
              "      <th>USD_UAH_avg</th>\n",
              "      <th>Key_rate_eop</th>\n",
              "      <th>EUR_UAH_eop</th>\n",
              "      <th>USD_UAH_eop</th>\n",
              "      <th>DR</th>\n",
              "    </tr>\n",
              "  </thead>\n",
              "  <tbody>\n",
              "    <tr>\n",
              "      <th>Date</th>\n",
              "      <td>1.000000</td>\n",
              "      <td>-0.128722</td>\n",
              "      <td>0.725401</td>\n",
              "      <td>0.050588</td>\n",
              "      <td>0.921120</td>\n",
              "      <td>0.919525</td>\n",
              "      <td>0.288222</td>\n",
              "      <td>0.905074</td>\n",
              "      <td>0.896062</td>\n",
              "      <td>-0.031595</td>\n",
              "    </tr>\n",
              "    <tr>\n",
              "      <th>GDP</th>\n",
              "      <td>-0.128722</td>\n",
              "      <td>1.000000</td>\n",
              "      <td>-0.598506</td>\n",
              "      <td>-0.400830</td>\n",
              "      <td>-0.012593</td>\n",
              "      <td>-0.073642</td>\n",
              "      <td>-0.596467</td>\n",
              "      <td>-0.157540</td>\n",
              "      <td>-0.199033</td>\n",
              "      <td>-0.381463</td>\n",
              "    </tr>\n",
              "    <tr>\n",
              "      <th>Unemployment</th>\n",
              "      <td>0.725401</td>\n",
              "      <td>-0.598506</td>\n",
              "      <td>1.000000</td>\n",
              "      <td>0.249420</td>\n",
              "      <td>0.623302</td>\n",
              "      <td>0.674408</td>\n",
              "      <td>0.598118</td>\n",
              "      <td>0.719986</td>\n",
              "      <td>0.753614</td>\n",
              "      <td>0.258591</td>\n",
              "    </tr>\n",
              "    <tr>\n",
              "      <th>CPI_avg</th>\n",
              "      <td>0.050588</td>\n",
              "      <td>-0.400830</td>\n",
              "      <td>0.249420</td>\n",
              "      <td>1.000000</td>\n",
              "      <td>0.241048</td>\n",
              "      <td>0.275533</td>\n",
              "      <td>0.763537</td>\n",
              "      <td>0.285174</td>\n",
              "      <td>0.345655</td>\n",
              "      <td>0.799107</td>\n",
              "    </tr>\n",
              "    <tr>\n",
              "      <th>EUR_UAH_avg</th>\n",
              "      <td>0.921120</td>\n",
              "      <td>-0.012593</td>\n",
              "      <td>0.623302</td>\n",
              "      <td>0.241048</td>\n",
              "      <td>1.000000</td>\n",
              "      <td>0.994210</td>\n",
              "      <td>0.424831</td>\n",
              "      <td>0.972741</td>\n",
              "      <td>0.971996</td>\n",
              "      <td>-0.002890</td>\n",
              "    </tr>\n",
              "    <tr>\n",
              "      <th>USD_UAH_avg</th>\n",
              "      <td>0.919525</td>\n",
              "      <td>-0.073642</td>\n",
              "      <td>0.674408</td>\n",
              "      <td>0.275533</td>\n",
              "      <td>0.994210</td>\n",
              "      <td>1.000000</td>\n",
              "      <td>0.468887</td>\n",
              "      <td>0.976791</td>\n",
              "      <td>0.983454</td>\n",
              "      <td>0.032596</td>\n",
              "    </tr>\n",
              "    <tr>\n",
              "      <th>Key_rate_eop</th>\n",
              "      <td>0.288222</td>\n",
              "      <td>-0.596467</td>\n",
              "      <td>0.598118</td>\n",
              "      <td>0.763537</td>\n",
              "      <td>0.424831</td>\n",
              "      <td>0.468887</td>\n",
              "      <td>1.000000</td>\n",
              "      <td>0.476802</td>\n",
              "      <td>0.550519</td>\n",
              "      <td>0.472887</td>\n",
              "    </tr>\n",
              "    <tr>\n",
              "      <th>EUR_UAH_eop</th>\n",
              "      <td>0.905074</td>\n",
              "      <td>-0.157540</td>\n",
              "      <td>0.719986</td>\n",
              "      <td>0.285174</td>\n",
              "      <td>0.972741</td>\n",
              "      <td>0.976791</td>\n",
              "      <td>0.476802</td>\n",
              "      <td>1.000000</td>\n",
              "      <td>0.990185</td>\n",
              "      <td>0.086598</td>\n",
              "    </tr>\n",
              "    <tr>\n",
              "      <th>USD_UAH_eop</th>\n",
              "      <td>0.896062</td>\n",
              "      <td>-0.199033</td>\n",
              "      <td>0.753614</td>\n",
              "      <td>0.345655</td>\n",
              "      <td>0.971996</td>\n",
              "      <td>0.983454</td>\n",
              "      <td>0.550519</td>\n",
              "      <td>0.990185</td>\n",
              "      <td>1.000000</td>\n",
              "      <td>0.122591</td>\n",
              "    </tr>\n",
              "    <tr>\n",
              "      <th>DR</th>\n",
              "      <td>-0.031595</td>\n",
              "      <td>-0.381463</td>\n",
              "      <td>0.258591</td>\n",
              "      <td>0.799107</td>\n",
              "      <td>-0.002890</td>\n",
              "      <td>0.032596</td>\n",
              "      <td>0.472887</td>\n",
              "      <td>0.086598</td>\n",
              "      <td>0.122591</td>\n",
              "      <td>1.000000</td>\n",
              "    </tr>\n",
              "  </tbody>\n",
              "</table>\n",
              "</div>\n",
              "    <div class=\"colab-df-buttons\">\n",
              "\n",
              "  <div class=\"colab-df-container\">\n",
              "    <button class=\"colab-df-convert\" onclick=\"convertToInteractive('df-8002aae8-b44c-4426-be03-945a33f56bb2')\"\n",
              "            title=\"Convert this dataframe to an interactive table.\"\n",
              "            style=\"display:none;\">\n",
              "\n",
              "  <svg xmlns=\"http://www.w3.org/2000/svg\" height=\"24px\" viewBox=\"0 -960 960 960\">\n",
              "    <path d=\"M120-120v-720h720v720H120Zm60-500h600v-160H180v160Zm220 220h160v-160H400v160Zm0 220h160v-160H400v160ZM180-400h160v-160H180v160Zm440 0h160v-160H620v160ZM180-180h160v-160H180v160Zm440 0h160v-160H620v160Z\"/>\n",
              "  </svg>\n",
              "    </button>\n",
              "\n",
              "  <style>\n",
              "    .colab-df-container {\n",
              "      display:flex;\n",
              "      gap: 12px;\n",
              "    }\n",
              "\n",
              "    .colab-df-convert {\n",
              "      background-color: #E8F0FE;\n",
              "      border: none;\n",
              "      border-radius: 50%;\n",
              "      cursor: pointer;\n",
              "      display: none;\n",
              "      fill: #1967D2;\n",
              "      height: 32px;\n",
              "      padding: 0 0 0 0;\n",
              "      width: 32px;\n",
              "    }\n",
              "\n",
              "    .colab-df-convert:hover {\n",
              "      background-color: #E2EBFA;\n",
              "      box-shadow: 0px 1px 2px rgba(60, 64, 67, 0.3), 0px 1px 3px 1px rgba(60, 64, 67, 0.15);\n",
              "      fill: #174EA6;\n",
              "    }\n",
              "\n",
              "    .colab-df-buttons div {\n",
              "      margin-bottom: 4px;\n",
              "    }\n",
              "\n",
              "    [theme=dark] .colab-df-convert {\n",
              "      background-color: #3B4455;\n",
              "      fill: #D2E3FC;\n",
              "    }\n",
              "\n",
              "    [theme=dark] .colab-df-convert:hover {\n",
              "      background-color: #434B5C;\n",
              "      box-shadow: 0px 1px 3px 1px rgba(0, 0, 0, 0.15);\n",
              "      filter: drop-shadow(0px 1px 2px rgba(0, 0, 0, 0.3));\n",
              "      fill: #FFFFFF;\n",
              "    }\n",
              "  </style>\n",
              "\n",
              "    <script>\n",
              "      const buttonEl =\n",
              "        document.querySelector('#df-8002aae8-b44c-4426-be03-945a33f56bb2 button.colab-df-convert');\n",
              "      buttonEl.style.display =\n",
              "        google.colab.kernel.accessAllowed ? 'block' : 'none';\n",
              "\n",
              "      async function convertToInteractive(key) {\n",
              "        const element = document.querySelector('#df-8002aae8-b44c-4426-be03-945a33f56bb2');\n",
              "        const dataTable =\n",
              "          await google.colab.kernel.invokeFunction('convertToInteractive',\n",
              "                                                    [key], {});\n",
              "        if (!dataTable) return;\n",
              "\n",
              "        const docLinkHtml = 'Like what you see? Visit the ' +\n",
              "          '<a target=\"_blank\" href=https://colab.research.google.com/notebooks/data_table.ipynb>data table notebook</a>'\n",
              "          + ' to learn more about interactive tables.';\n",
              "        element.innerHTML = '';\n",
              "        dataTable['output_type'] = 'display_data';\n",
              "        await google.colab.output.renderOutput(dataTable, element);\n",
              "        const docLink = document.createElement('div');\n",
              "        docLink.innerHTML = docLinkHtml;\n",
              "        element.appendChild(docLink);\n",
              "      }\n",
              "    </script>\n",
              "  </div>\n",
              "\n",
              "\n",
              "<div id=\"df-7e163600-f10f-46a7-bad6-1e65b68d20ca\">\n",
              "  <button class=\"colab-df-quickchart\" onclick=\"quickchart('df-7e163600-f10f-46a7-bad6-1e65b68d20ca')\"\n",
              "            title=\"Suggest charts\"\n",
              "            style=\"display:none;\">\n",
              "\n",
              "<svg xmlns=\"http://www.w3.org/2000/svg\" height=\"24px\"viewBox=\"0 0 24 24\"\n",
              "     width=\"24px\">\n",
              "    <g>\n",
              "        <path d=\"M19 3H5c-1.1 0-2 .9-2 2v14c0 1.1.9 2 2 2h14c1.1 0 2-.9 2-2V5c0-1.1-.9-2-2-2zM9 17H7v-7h2v7zm4 0h-2V7h2v10zm4 0h-2v-4h2v4z\"/>\n",
              "    </g>\n",
              "</svg>\n",
              "  </button>\n",
              "\n",
              "<style>\n",
              "  .colab-df-quickchart {\n",
              "      --bg-color: #E8F0FE;\n",
              "      --fill-color: #1967D2;\n",
              "      --hover-bg-color: #E2EBFA;\n",
              "      --hover-fill-color: #174EA6;\n",
              "      --disabled-fill-color: #AAA;\n",
              "      --disabled-bg-color: #DDD;\n",
              "  }\n",
              "\n",
              "  [theme=dark] .colab-df-quickchart {\n",
              "      --bg-color: #3B4455;\n",
              "      --fill-color: #D2E3FC;\n",
              "      --hover-bg-color: #434B5C;\n",
              "      --hover-fill-color: #FFFFFF;\n",
              "      --disabled-bg-color: #3B4455;\n",
              "      --disabled-fill-color: #666;\n",
              "  }\n",
              "\n",
              "  .colab-df-quickchart {\n",
              "    background-color: var(--bg-color);\n",
              "    border: none;\n",
              "    border-radius: 50%;\n",
              "    cursor: pointer;\n",
              "    display: none;\n",
              "    fill: var(--fill-color);\n",
              "    height: 32px;\n",
              "    padding: 0;\n",
              "    width: 32px;\n",
              "  }\n",
              "\n",
              "  .colab-df-quickchart:hover {\n",
              "    background-color: var(--hover-bg-color);\n",
              "    box-shadow: 0 1px 2px rgba(60, 64, 67, 0.3), 0 1px 3px 1px rgba(60, 64, 67, 0.15);\n",
              "    fill: var(--button-hover-fill-color);\n",
              "  }\n",
              "\n",
              "  .colab-df-quickchart-complete:disabled,\n",
              "  .colab-df-quickchart-complete:disabled:hover {\n",
              "    background-color: var(--disabled-bg-color);\n",
              "    fill: var(--disabled-fill-color);\n",
              "    box-shadow: none;\n",
              "  }\n",
              "\n",
              "  .colab-df-spinner {\n",
              "    border: 2px solid var(--fill-color);\n",
              "    border-color: transparent;\n",
              "    border-bottom-color: var(--fill-color);\n",
              "    animation:\n",
              "      spin 1s steps(1) infinite;\n",
              "  }\n",
              "\n",
              "  @keyframes spin {\n",
              "    0% {\n",
              "      border-color: transparent;\n",
              "      border-bottom-color: var(--fill-color);\n",
              "      border-left-color: var(--fill-color);\n",
              "    }\n",
              "    20% {\n",
              "      border-color: transparent;\n",
              "      border-left-color: var(--fill-color);\n",
              "      border-top-color: var(--fill-color);\n",
              "    }\n",
              "    30% {\n",
              "      border-color: transparent;\n",
              "      border-left-color: var(--fill-color);\n",
              "      border-top-color: var(--fill-color);\n",
              "      border-right-color: var(--fill-color);\n",
              "    }\n",
              "    40% {\n",
              "      border-color: transparent;\n",
              "      border-right-color: var(--fill-color);\n",
              "      border-top-color: var(--fill-color);\n",
              "    }\n",
              "    60% {\n",
              "      border-color: transparent;\n",
              "      border-right-color: var(--fill-color);\n",
              "    }\n",
              "    80% {\n",
              "      border-color: transparent;\n",
              "      border-right-color: var(--fill-color);\n",
              "      border-bottom-color: var(--fill-color);\n",
              "    }\n",
              "    90% {\n",
              "      border-color: transparent;\n",
              "      border-bottom-color: var(--fill-color);\n",
              "    }\n",
              "  }\n",
              "</style>\n",
              "\n",
              "  <script>\n",
              "    async function quickchart(key) {\n",
              "      const quickchartButtonEl =\n",
              "        document.querySelector('#' + key + ' button');\n",
              "      quickchartButtonEl.disabled = true;  // To prevent multiple clicks.\n",
              "      quickchartButtonEl.classList.add('colab-df-spinner');\n",
              "      try {\n",
              "        const charts = await google.colab.kernel.invokeFunction(\n",
              "            'suggestCharts', [key], {});\n",
              "      } catch (error) {\n",
              "        console.error('Error during call to suggestCharts:', error);\n",
              "      }\n",
              "      quickchartButtonEl.classList.remove('colab-df-spinner');\n",
              "      quickchartButtonEl.classList.add('colab-df-quickchart-complete');\n",
              "    }\n",
              "    (() => {\n",
              "      let quickchartButtonEl =\n",
              "        document.querySelector('#df-7e163600-f10f-46a7-bad6-1e65b68d20ca button');\n",
              "      quickchartButtonEl.style.display =\n",
              "        google.colab.kernel.accessAllowed ? 'block' : 'none';\n",
              "    })();\n",
              "  </script>\n",
              "</div>\n",
              "    </div>\n",
              "  </div>\n"
            ],
            "application/vnd.google.colaboratory.intrinsic+json": {
              "type": "dataframe",
              "summary": "{\n  \"name\": \"data2\",\n  \"rows\": 10,\n  \"fields\": [\n    {\n      \"column\": \"Date\",\n      \"properties\": {\n        \"dtype\": \"number\",\n        \"std\": 0.4558300171007154,\n        \"min\": -0.12872198430189216,\n        \"max\": 1.0,\n        \"samples\": [\n          0.8960618510373115,\n          -0.12872198430189216,\n          0.9195252399563586\n        ],\n        \"num_unique_values\": 10,\n        \"semantic_type\": \"\",\n        \"description\": \"\"\n      }\n    },\n    {\n      \"column\": \"GDP\",\n      \"properties\": {\n        \"dtype\": \"number\",\n        \"std\": 0.45544467926413307,\n        \"min\": -0.5985063378377572,\n        \"max\": 1.0,\n        \"samples\": [\n          -0.1990328794773627,\n          1.0,\n          -0.07364156011259829\n        ],\n        \"num_unique_values\": 10,\n        \"semantic_type\": \"\",\n        \"description\": \"\"\n      }\n    },\n    {\n      \"column\": \"Unemployment\",\n      \"properties\": {\n        \"dtype\": \"number\",\n        \"std\": 0.4467849382271332,\n        \"min\": -0.5985063378377572,\n        \"max\": 1.0,\n        \"samples\": [\n          0.7536140689209359,\n          -0.5985063378377572,\n          0.6744084444397878\n        ],\n        \"num_unique_values\": 10,\n        \"semantic_type\": \"\",\n        \"description\": \"\"\n      }\n    },\n    {\n      \"column\": \"CPI_avg\",\n      \"properties\": {\n        \"dtype\": \"number\",\n        \"std\": 0.40540293181726655,\n        \"min\": -0.40082999842349676,\n        \"max\": 1.0,\n        \"samples\": [\n          0.34565538819013364,\n          -0.40082999842349676,\n          0.2755330372610937\n        ],\n        \"num_unique_values\": 10,\n        \"semantic_type\": \"\",\n        \"description\": \"\"\n      }\n    },\n    {\n      \"column\": \"EUR_UAH_avg\",\n      \"properties\": {\n        \"dtype\": \"number\",\n        \"std\": 0.42069606376708807,\n        \"min\": -0.012592871208750769,\n        \"max\": 1.0,\n        \"samples\": [\n          0.9719956073973319,\n          -0.012592871208750769,\n          0.9942099342065892\n        ],\n        \"num_unique_values\": 10,\n        \"semantic_type\": \"\",\n        \"description\": \"\"\n      }\n    },\n    {\n      \"column\": \"USD_UAH_avg\",\n      \"properties\": {\n        \"dtype\": \"number\",\n        \"std\": 0.4221524073228388,\n        \"min\": -0.07364156011259829,\n        \"max\": 1.0,\n        \"samples\": [\n          0.9834539620445407,\n          -0.07364156011259829,\n          1.0\n        ],\n        \"num_unique_values\": 10,\n        \"semantic_type\": \"\",\n        \"description\": \"\"\n      }\n    },\n    {\n      \"column\": \"Key_rate_eop\",\n      \"properties\": {\n        \"dtype\": \"number\",\n        \"std\": 0.41580835892384166,\n        \"min\": -0.5964671565825951,\n        \"max\": 1.0,\n        \"samples\": [\n          0.5505191659404568,\n          -0.5964671565825951,\n          0.46888677307066823\n        ],\n        \"num_unique_values\": 10,\n        \"semantic_type\": \"\",\n        \"description\": \"\"\n      }\n    },\n    {\n      \"column\": \"EUR_UAH_eop\",\n      \"properties\": {\n        \"dtype\": \"number\",\n        \"std\": 0.42763106917980254,\n        \"min\": -0.15753970749584947,\n        \"max\": 1.0,\n        \"samples\": [\n          0.9901850361443026,\n          -0.15753970749584947,\n          0.9767907463553477\n        ],\n        \"num_unique_values\": 10,\n        \"semantic_type\": \"\",\n        \"description\": \"\"\n      }\n    },\n    {\n      \"column\": \"USD_UAH_eop\",\n      \"properties\": {\n        \"dtype\": \"number\",\n        \"std\": 0.4249441704633275,\n        \"min\": -0.1990328794773627,\n        \"max\": 1.0,\n        \"samples\": [\n          1.0,\n          -0.1990328794773627,\n          0.9834539620445407\n        ],\n        \"num_unique_values\": 10,\n        \"semantic_type\": \"\",\n        \"description\": \"\"\n      }\n    },\n    {\n      \"column\": \"DR\",\n      \"properties\": {\n        \"dtype\": \"number\",\n        \"std\": 0.4141795149262701,\n        \"min\": -0.3814629616171994,\n        \"max\": 1.0,\n        \"samples\": [\n          0.12259133679477383,\n          -0.3814629616171994,\n          0.03259606720910861\n        ],\n        \"num_unique_values\": 10,\n        \"semantic_type\": \"\",\n        \"description\": \"\"\n      }\n    }\n  ]\n}"
            }
          },
          "metadata": {},
          "execution_count": 255
        }
      ]
    },
    {
      "cell_type": "code",
      "source": [
        "plt.figure(figsize=(10, 6))\n",
        "mask = np.triu(np.ones_like(data2.corr(), dtype=bool))\n",
        "sns.heatmap(data2.corr(), mask=mask, annot=True, annot_kws={\"size\": 10})\n",
        "sns.set_style('white')\n",
        "plt.xticks(fontsize=8)\n",
        "plt.yticks(fontsize=8)\n",
        "plt.show()"
      ],
      "metadata": {
        "colab": {
          "base_uri": "https://localhost:8080/",
          "height": 594
        },
        "id": "tIzV2P6MdgO7",
        "outputId": "27b17c90-f52b-4fbb-e44b-71260011a5fa"
      },
      "execution_count": 256,
      "outputs": [
        {
          "output_type": "display_data",
          "data": {
            "text/plain": [
              "<Figure size 1000x600 with 2 Axes>"
            ],
            "image/png": "[encoded data removed]"
          },
          "metadata": {}
        }
      ]
    },
    {
      "cell_type": "code",
      "source": [
        "# model determination\n",
        "DR = data2[\"DR\"]\n",
        "X = data2.drop(['DR'], axis = 1)\n",
        "\n",
        "macro = sm.add_constant(X)\n",
        "regression = sm.OLS(DR, macro)\n",
        "result = regression.fit()"
      ],
      "metadata": {
        "id": "0FxIejCZdgWX"
      },
      "execution_count": 257,
      "outputs": []
    },
    {
      "cell_type": "code",
      "source": [
        "# model result\n",
        "pd.DataFrame({'coef': result.params, 'P_value': round(result.pvalues,3)})\n",
        "# P-value should be < 0.05 - then ok, other parameters must be excluded"
      ],
      "metadata": {
        "colab": {
          "base_uri": "https://localhost:8080/",
          "height": 363
        },
        "id": "-j9r5wqBdgTx",
        "outputId": "167444f9-2830-4b4d-fd2d-56eab362a3ee"
      },
      "execution_count": 258,
      "outputs": [
        {
          "output_type": "execute_result",
          "data": {
            "text/plain": [
              "                   coef  P_value\n",
              "const        -83.153629    0.325\n",
              "Date           0.000004    0.325\n",
              "GDP            0.005794    0.282\n",
              "Unemployment  -0.006897    0.816\n",
              "CPI_avg        0.006653    0.087\n",
              "EUR_UAH_avg   -0.035380    0.455\n",
              "USD_UAH_avg   -0.005518    0.805\n",
              "Key_rate_eop   0.001230    0.888\n",
              "EUR_UAH_eop    0.005178    0.718\n",
              "USD_UAH_eop    0.019935    0.598"
            ],
            "text/html": [
              "\n",
              "  <div id=\"df-e49acf5f-7bf2-4fdb-be8b-ede2ed41b6ad\" class=\"colab-df-container\">\n",
              "    <div>\n",
              "<style scoped>\n",
              "    .dataframe tbody tr th:only-of-type {\n",
              "        vertical-align: middle;\n",
              "    }\n",
              "\n",
              "    .dataframe tbody tr th {\n",
              "        vertical-align: top;\n",
              "    }\n",
              "\n",
              "    .dataframe thead th {\n",
              "        text-align: right;\n",
              "    }\n",
              "</style>\n",
              "<table border=\"1\" class=\"dataframe\">\n",
              "  <thead>\n",
              "    <tr style=\"text-align: right;\">\n",
              "      <th></th>\n",
              "      <th>coef</th>\n",
              "      <th>P_value</th>\n",
              "    </tr>\n",
              "  </thead>\n",
              "  <tbody>\n",
              "    <tr>\n",
              "      <th>const</th>\n",
              "      <td>-83.153629</td>\n",
              "      <td>0.325</td>\n",
              "    </tr>\n",
              "    <tr>\n",
              "      <th>Date</th>\n",
              "      <td>0.000004</td>\n",
              "      <td>0.325</td>\n",
              "    </tr>\n",
              "    <tr>\n",
              "      <th>GDP</th>\n",
              "      <td>0.005794</td>\n",
              "      <td>0.282</td>\n",
              "    </tr>\n",
              "    <tr>\n",
              "      <th>Unemployment</th>\n",
              "      <td>-0.006897</td>\n",
              "      <td>0.816</td>\n",
              "    </tr>\n",
              "    <tr>\n",
              "      <th>CPI_avg</th>\n",
              "      <td>0.006653</td>\n",
              "      <td>0.087</td>\n",
              "    </tr>\n",
              "    <tr>\n",
              "      <th>EUR_UAH_avg</th>\n",
              "      <td>-0.035380</td>\n",
              "      <td>0.455</td>\n",
              "    </tr>\n",
              "    <tr>\n",
              "      <th>USD_UAH_avg</th>\n",
              "      <td>-0.005518</td>\n",
              "      <td>0.805</td>\n",
              "    </tr>\n",
              "    <tr>\n",
              "      <th>Key_rate_eop</th>\n",
              "      <td>0.001230</td>\n",
              "      <td>0.888</td>\n",
              "    </tr>\n",
              "    <tr>\n",
              "      <th>EUR_UAH_eop</th>\n",
              "      <td>0.005178</td>\n",
              "      <td>0.718</td>\n",
              "    </tr>\n",
              "    <tr>\n",
              "      <th>USD_UAH_eop</th>\n",
              "      <td>0.019935</td>\n",
              "      <td>0.598</td>\n",
              "    </tr>\n",
              "  </tbody>\n",
              "</table>\n",
              "</div>\n",
              "    <div class=\"colab-df-buttons\">\n",
              "\n",
              "  <div class=\"colab-df-container\">\n",
              "    <button class=\"colab-df-convert\" onclick=\"convertToInteractive('df-e49acf5f-7bf2-4fdb-be8b-ede2ed41b6ad')\"\n",
              "            title=\"Convert this dataframe to an interactive table.\"\n",
              "            style=\"display:none;\">\n",
              "\n",
              "  <svg xmlns=\"http://www.w3.org/2000/svg\" height=\"24px\" viewBox=\"0 -960 960 960\">\n",
              "    <path d=\"M120-120v-720h720v720H120Zm60-500h600v-160H180v160Zm220 220h160v-160H400v160Zm0 220h160v-160H400v160ZM180-400h160v-160H180v160Zm440 0h160v-160H620v160ZM180-180h160v-160H180v160Zm440 0h160v-160H620v160Z\"/>\n",
              "  </svg>\n",
              "    </button>\n",
              "\n",
              "  <style>\n",
              "    .colab-df-container {\n",
              "      display:flex;\n",
              "      gap: 12px;\n",
              "    }\n",
              "\n",
              "    .colab-df-convert {\n",
              "      background-color: #E8F0FE;\n",
              "      border: none;\n",
              "      border-radius: 50%;\n",
              "      cursor: pointer;\n",
              "      display: none;\n",
              "      fill: #1967D2;\n",
              "      height: 32px;\n",
              "      padding: 0 0 0 0;\n",
              "      width: 32px;\n",
              "    }\n",
              "\n",
              "    .colab-df-convert:hover {\n",
              "      background-color: #E2EBFA;\n",
              "      box-shadow: 0px 1px 2px rgba(60, 64, 67, 0.3), 0px 1px 3px 1px rgba(60, 64, 67, 0.15);\n",
              "      fill: #174EA6;\n",
              "    }\n",
              "\n",
              "    .colab-df-buttons div {\n",
              "      margin-bottom: 4px;\n",
              "    }\n",
              "\n",
              "    [theme=dark] .colab-df-convert {\n",
              "      background-color: #3B4455;\n",
              "      fill: #D2E3FC;\n",
              "    }\n",
              "\n",
              "    [theme=dark] .colab-df-convert:hover {\n",
              "      background-color: #434B5C;\n",
              "      box-shadow: 0px 1px 3px 1px rgba(0, 0, 0, 0.15);\n",
              "      filter: drop-shadow(0px 1px 2px rgba(0, 0, 0, 0.3));\n",
              "      fill: #FFFFFF;\n",
              "    }\n",
              "  </style>\n",
              "\n",
              "    <script>\n",
              "      const buttonEl =\n",
              "        document.querySelector('#df-e49acf5f-7bf2-4fdb-be8b-ede2ed41b6ad button.colab-df-convert');\n",
              "      buttonEl.style.display =\n",
              "        google.colab.kernel.accessAllowed ? 'block' : 'none';\n",
              "\n",
              "      async function convertToInteractive(key) {\n",
              "        const element = document.querySelector('#df-e49acf5f-7bf2-4fdb-be8b-ede2ed41b6ad');\n",
              "        const dataTable =\n",
              "          await google.colab.kernel.invokeFunction('convertToInteractive',\n",
              "                                                    [key], {});\n",
              "        if (!dataTable) return;\n",
              "\n",
              "        const docLinkHtml = 'Like what you see? Visit the ' +\n",
              "          '<a target=\"_blank\" href=https://colab.research.google.com/notebooks/data_table.ipynb>data table notebook</a>'\n",
              "          + ' to learn more about interactive tables.';\n",
              "        element.innerHTML = '';\n",
              "        dataTable['output_type'] = 'display_data';\n",
              "        await google.colab.output.renderOutput(dataTable, element);\n",
              "        const docLink = document.createElement('div');\n",
              "        docLink.innerHTML = docLinkHtml;\n",
              "        element.appendChild(docLink);\n",
              "      }\n",
              "    </script>\n",
              "  </div>\n",
              "\n",
              "\n",
              "<div id=\"df-5b463f94-5818-4270-8528-049a5e5a98d5\">\n",
              "  <button class=\"colab-df-quickchart\" onclick=\"quickchart('df-5b463f94-5818-4270-8528-049a5e5a98d5')\"\n",
              "            title=\"Suggest charts\"\n",
              "            style=\"display:none;\">\n",
              "\n",
              "<svg xmlns=\"http://www.w3.org/2000/svg\" height=\"24px\"viewBox=\"0 0 24 24\"\n",
              "     width=\"24px\">\n",
              "    <g>\n",
              "        <path d=\"M19 3H5c-1.1 0-2 .9-2 2v14c0 1.1.9 2 2 2h14c1.1 0 2-.9 2-2V5c0-1.1-.9-2-2-2zM9 17H7v-7h2v7zm4 0h-2V7h2v10zm4 0h-2v-4h2v4z\"/>\n",
              "    </g>\n",
              "</svg>\n",
              "  </button>\n",
              "\n",
              "<style>\n",
              "  .colab-df-quickchart {\n",
              "      --bg-color: #E8F0FE;\n",
              "      --fill-color: #1967D2;\n",
              "      --hover-bg-color: #E2EBFA;\n",
              "      --hover-fill-color: #174EA6;\n",
              "      --disabled-fill-color: #AAA;\n",
              "      --disabled-bg-color: #DDD;\n",
              "  }\n",
              "\n",
              "  [theme=dark] .colab-df-quickchart {\n",
              "      --bg-color: #3B4455;\n",
              "      --fill-color: #D2E3FC;\n",
              "      --hover-bg-color: #434B5C;\n",
              "      --hover-fill-color: #FFFFFF;\n",
              "      --disabled-bg-color: #3B4455;\n",
              "      --disabled-fill-color: #666;\n",
              "  }\n",
              "\n",
              "  .colab-df-quickchart {\n",
              "    background-color: var(--bg-color);\n",
              "    border: none;\n",
              "    border-radius: 50%;\n",
              "    cursor: pointer;\n",
              "    display: none;\n",
              "    fill: var(--fill-color);\n",
              "    height: 32px;\n",
              "    padding: 0;\n",
              "    width: 32px;\n",
              "  }\n",
              "\n",
              "  .colab-df-quickchart:hover {\n",
              "    background-color: var(--hover-bg-color);\n",
              "    box-shadow: 0 1px 2px rgba(60, 64, 67, 0.3), 0 1px 3px 1px rgba(60, 64, 67, 0.15);\n",
              "    fill: var(--button-hover-fill-color);\n",
              "  }\n",
              "\n",
              "  .colab-df-quickchart-complete:disabled,\n",
              "  .colab-df-quickchart-complete:disabled:hover {\n",
              "    background-color: var(--disabled-bg-color);\n",
              "    fill: var(--disabled-fill-color);\n",
              "    box-shadow: none;\n",
              "  }\n",
              "\n",
              "  .colab-df-spinner {\n",
              "    border: 2px solid var(--fill-color);\n",
              "    border-color: transparent;\n",
              "    border-bottom-color: var(--fill-color);\n",
              "    animation:\n",
              "      spin 1s steps(1) infinite;\n",
              "  }\n",
              "\n",
              "  @keyframes spin {\n",
              "    0% {\n",
              "      border-color: transparent;\n",
              "      border-bottom-color: var(--fill-color);\n",
              "      border-left-color: var(--fill-color);\n",
              "    }\n",
              "    20% {\n",
              "      border-color: transparent;\n",
              "      border-left-color: var(--fill-color);\n",
              "      border-top-color: var(--fill-color);\n",
              "    }\n",
              "    30% {\n",
              "      border-color: transparent;\n",
              "      border-left-color: var(--fill-color);\n",
              "      border-top-color: var(--fill-color);\n",
              "      border-right-color: var(--fill-color);\n",
              "    }\n",
              "    40% {\n",
              "      border-color: transparent;\n",
              "      border-right-color: var(--fill-color);\n",
              "      border-top-color: var(--fill-color);\n",
              "    }\n",
              "    60% {\n",
              "      border-color: transparent;\n",
              "      border-right-color: var(--fill-color);\n",
              "    }\n",
              "    80% {\n",
              "      border-color: transparent;\n",
              "      border-right-color: var(--fill-color);\n",
              "      border-bottom-color: var(--fill-color);\n",
              "    }\n",
              "    90% {\n",
              "      border-color: transparent;\n",
              "      border-bottom-color: var(--fill-color);\n",
              "    }\n",
              "  }\n",
              "</style>\n",
              "\n",
              "  <script>\n",
              "    async function quickchart(key) {\n",
              "      const quickchartButtonEl =\n",
              "        document.querySelector('#' + key + ' button');\n",
              "      quickchartButtonEl.disabled = true;  // To prevent multiple clicks.\n",
              "      quickchartButtonEl.classList.add('colab-df-spinner');\n",
              "      try {\n",
              "        const charts = await google.colab.kernel.invokeFunction(\n",
              "            'suggestCharts', [key], {});\n",
              "      } catch (error) {\n",
              "        console.error('Error during call to suggestCharts:', error);\n",
              "      }\n",
              "      quickchartButtonEl.classList.remove('colab-df-spinner');\n",
              "      quickchartButtonEl.classList.add('colab-df-quickchart-complete');\n",
              "    }\n",
              "    (() => {\n",
              "      let quickchartButtonEl =\n",
              "        document.querySelector('#df-5b463f94-5818-4270-8528-049a5e5a98d5 button');\n",
              "      quickchartButtonEl.style.display =\n",
              "        google.colab.kernel.accessAllowed ? 'block' : 'none';\n",
              "    })();\n",
              "  </script>\n",
              "</div>\n",
              "    </div>\n",
              "  </div>\n"
            ],
            "application/vnd.google.colaboratory.intrinsic+json": {
              "type": "dataframe",
              "summary": "{\n  \"name\": \"# P-value should be < 0\",\n  \"rows\": 10,\n  \"fields\": [\n    {\n      \"column\": \"coef\",\n      \"properties\": {\n        \"dtype\": \"number\",\n        \"std\": 26.295173950592517,\n        \"min\": -83.15362916810196,\n        \"max\": 0.019935282745739955,\n        \"samples\": [\n          0.005178236926625588,\n          4.146747565119268e-06,\n          -0.03538047011232765\n        ],\n        \"num_unique_values\": 10,\n        \"semantic_type\": \"\",\n        \"description\": \"\"\n      }\n    },\n    {\n      \"column\": \"P_value\",\n      \"properties\": {\n        \"dtype\": \"number\",\n        \"std\": 0.27345137694945976,\n        \"min\": 0.087,\n        \"max\": 0.888,\n        \"samples\": [\n          0.718,\n          0.282,\n          0.805\n        ],\n        \"num_unique_values\": 9,\n        \"semantic_type\": \"\",\n        \"description\": \"\"\n      }\n    }\n  ]\n}"
            }
          },
          "metadata": {},
          "execution_count": 258
        }
      ]
    },
    {
      "cell_type": "code",
      "source": [
        "print(result.summary())"
      ],
      "metadata": {
        "colab": {
          "base_uri": "https://localhost:8080/"
        },
        "id": "eVxe5AYSwG2L",
        "outputId": "b8b72189-2fdc-4fe2-80b3-3118eaa31891"
      },
      "execution_count": 259,
      "outputs": [
        {
          "output_type": "stream",
          "name": "stdout",
          "text": [
            "                            OLS Regression Results                            \n",
            "==============================================================================\n",
            "Dep. Variable:                     DR   R-squared:                       0.939\n",
            "Model:                            OLS   Adj. R-squared:                  0.666\n",
            "Method:                 Least Squares   F-statistic:                     3.432\n",
            "Date:                Fri, 16 Feb 2024   Prob (F-statistic):              0.246\n",
            "Time:                        15:05:42   Log-Likelihood:                 31.981\n",
            "No. Observations:                  12   AIC:                            -43.96\n",
            "Df Residuals:                       2   BIC:                            -39.11\n",
            "Df Model:                           9                                         \n",
            "Covariance Type:            nonrobust                                         \n",
            "================================================================================\n",
            "                   coef    std err          t      P>|t|      [0.025      0.975]\n",
            "--------------------------------------------------------------------------------\n",
            "const          -83.1536     64.313     -1.293      0.325    -359.870     193.563\n",
            "Date          4.147e-06   3.21e-06      1.292      0.325   -9.66e-06     1.8e-05\n",
            "GDP              0.0058      0.004      1.460      0.282      -0.011       0.023\n",
            "Unemployment    -0.0069      0.026     -0.264      0.816      -0.119       0.105\n",
            "CPI_avg          0.0067      0.002      3.171      0.087      -0.002       0.016\n",
            "EUR_UAH_avg     -0.0354      0.038     -0.919      0.455      -0.201       0.130\n",
            "USD_UAH_avg     -0.0055      0.020     -0.281      0.805      -0.090       0.079\n",
            "Key_rate_eop     0.0012      0.008      0.159      0.888      -0.032       0.034\n",
            "EUR_UAH_eop      0.0052      0.012      0.415      0.718      -0.048       0.059\n",
            "USD_UAH_eop      0.0199      0.032      0.622      0.598      -0.118       0.158\n",
            "==============================================================================\n",
            "Omnibus:                        1.841   Durbin-Watson:                   2.963\n",
            "Prob(Omnibus):                  0.398   Jarque-Bera (JB):                0.738\n",
            "Skew:                          -0.608   Prob(JB):                        0.691\n",
            "Kurtosis:                       2.980   Cond. No.                     1.09e+11\n",
            "==============================================================================\n",
            "\n",
            "Notes:\n",
            "[1] Standard Errors assume that the covariance matrix of the errors is correctly specified.\n",
            "[2] The condition number is large, 1.09e+11. This might indicate that there are\n",
            "strong multicollinearity or other numerical problems.\n"
          ]
        },
        {
          "output_type": "stream",
          "name": "stderr",
          "text": [
            "/usr/local/lib/python3.10/dist-packages/scipy/stats/_stats_py.py:1806: UserWarning: kurtosistest only valid for n>=20 ... continuing anyway, n=12\n",
            "  warnings.warn(\"kurtosistest only valid for n>=20 ... continuing \"\n"
          ]
        }
      ]
    },
    {
      "cell_type": "code",
      "source": [
        "# error - stand dev error\n",
        "result.bse"
      ],
      "metadata": {
        "colab": {
          "base_uri": "https://localhost:8080/"
        },
        "id": "Y2VdhnpkjpsA",
        "outputId": "d49d7ab6-2cf0-411b-d880-596da350bec7"
      },
      "execution_count": 260,
      "outputs": [
        {
          "output_type": "execute_result",
          "data": {
            "text/plain": [
              "const           64.312942\n",
              "Date             0.000003\n",
              "GDP              0.003968\n",
              "Unemployment     0.026082\n",
              "CPI_avg          0.002098\n",
              "EUR_UAH_avg      0.038489\n",
              "USD_UAH_avg      0.019653\n",
              "Key_rate_eop     0.007713\n",
              "EUR_UAH_eop      0.012474\n",
              "USD_UAH_eop      0.032074\n",
              "dtype: float64"
            ]
          },
          "metadata": {},
          "execution_count": 260
        }
      ]
    },
    {
      "cell_type": "code",
      "source": [
        "# test linear model - basic (all variables)\n",
        "LinReg = LinearRegression()\n",
        "LinReg.fit( macro, DR)\n",
        "\n",
        "r_sq = LinReg.score( macro, DR)\n",
        "print(\"coef of determination - v1:\", r_sq )\n"
      ],
      "metadata": {
        "colab": {
          "base_uri": "https://localhost:8080/"
        },
        "id": "GVPPVOK3lCyJ",
        "outputId": "08d59cd1-5c83-4e62-903b-8e4db83dbb40"
      },
      "execution_count": 261,
      "outputs": [
        {
          "output_type": "stream",
          "name": "stdout",
          "text": [
            "coef of determination - v1: 0.9391890313341353\n"
          ]
        }
      ]
    },
    {
      "cell_type": "code",
      "source": [
        "# test linear model 2 wo some macro\n",
        "macro = data2.copy()\n",
        "# now we can drop variables with p_value > 0.05\n",
        "macro2 = macro.drop(['Date', 'GDP', 'Unemployment', 'USD_UAH_avg', 'Key_rate_eop' , 'EUR_UAH_eop', 'USD_UAH_eop', 'DR'], axis = 1)\n",
        "# Date\tGDP\tUnemployment\tCPI_avg\tEUR_UAH_avg\tUSD_UAH_avg\tKey_rate_eop\tEUR_UAH_eop\tUSD_UAH_eop\n",
        "# GDP\tUnemployment\tCPI_avg\tEUR_UAH_avg\tUSD_UAH_avg\tKey_rate_eop\tEUR_UAH_eop\tUSD_UAH_eop 'hist_dat',\n",
        "\n",
        "LinReg = LinearRegression()\n",
        "LinReg.fit( macro2, DR)\n",
        "\n",
        "r_sq = LinReg.score( macro2, DR)\n",
        "print(\"coef of determination - v2:\", r_sq )\n",
        "\n",
        "regression = sm.OLS(DR, macro2)\n",
        "result = regression.fit()\n"
      ],
      "metadata": {
        "colab": {
          "base_uri": "https://localhost:8080/"
        },
        "id": "Rifge-36oydu",
        "outputId": "26e71028-17ec-43fc-9d0c-14f12dceab31"
      },
      "execution_count": 262,
      "outputs": [
        {
          "output_type": "stream",
          "name": "stdout",
          "text": [
            "coef of determination - v2: 0.679155636199693\n"
          ]
        }
      ]
    },
    {
      "cell_type": "markdown",
      "source": [
        "# **RESIDUALS = DIFF BETWEEN INPUT DATA AND MODELLING DATA **"
      ],
      "metadata": {
        "id": "Ege3SXvzpdT3"
      }
    },
    {
      "cell_type": "code",
      "source": [
        "# Residuals vs Predicted level\n",
        "plt.scatter(x=result.fittedvalues, y =result.resid, c='navy', alpha= 0.6)\n",
        "\n",
        "plt.xlabel(\"predicted DR\" , fontsize = 14)\n",
        "plt.ylabel(\"Residuals\" , fontsize = 14)\n",
        "plt.title(\"Residuals vs Fitted values\" , fontsize = 17)\n",
        "plt.show()"
      ],
      "metadata": {
        "colab": {
          "base_uri": "https://localhost:8080/",
          "height": 482
        },
        "id": "WWldy8alpcIb",
        "outputId": "28116c3b-6dd7-463c-a11c-32f8440d3929"
      },
      "execution_count": 263,
      "outputs": [
        {
          "output_type": "display_data",
          "data": {
            "text/plain": [
              "<Figure size 640x480 with 1 Axes>"
            ],
            "image/png": "[encoded data removed]"
          },
          "metadata": {}
        }
      ]
    },
    {
      "cell_type": "code",
      "source": [
        "# distribution of residuals\n",
        "residual_mean = round(result.resid.mean(),3)\n",
        "residual_skew = round(result.resid.skew(),3)\n",
        "\n",
        "sns.distplot(result.resid, color = 'navy')\n",
        "plt.title(f\"DR model: residual_skew ({residual_skew}) Mean ({residual_mean})\")\n",
        "plt.show()"
      ],
      "metadata": {
        "colab": {
          "base_uri": "https://localhost:8080/",
          "height": 643
        },
        "id": "UzZt520RpcLU",
        "outputId": "c7b28392-ee0f-4dba-dd8d-eda23a2a9cb9"
      },
      "execution_count": 264,
      "outputs": [
        {
          "output_type": "stream",
          "name": "stderr",
          "text": [
            "<ipython-input-264-2a7be3e43912>:5: UserWarning: \n",
            "\n",
            "`distplot` is a deprecated function and will be removed in seaborn v0.14.0.\n",
            "\n",
            "Please adapt your code to use either `displot` (a figure-level function with\n",
            "similar flexibility) or `histplot` (an axes-level function for histograms).\n",
            "\n",
            "For a guide to updating your code to use the new functions, please see\n",
            "https://gist.github.com/mwaskom/de44147ed2974457ad6372750bbe5751\n",
            "\n",
            "  sns.distplot(result.resid, color = 'navy')\n"
          ]
        },
        {
          "output_type": "display_data",
          "data": {
            "text/plain": [
              "<Figure size 640x480 with 1 Axes>"
            ],
            "image/png": "[encoded data removed]"
          },
          "metadata": {}
        }
      ]
    },
    {
      "cell_type": "code",
      "source": [],
      "metadata": {
        "id": "YNhkC-pRpcV1"
      },
      "execution_count": null,
      "outputs": []
    },
    {
      "cell_type": "code",
      "source": [],
      "metadata": {
        "id": "89Kam4NBpcYu"
      },
      "execution_count": null,
      "outputs": []
    },
    {
      "cell_type": "markdown",
      "source": [
        "# **forecast**"
      ],
      "metadata": {
        "id": "IfbAbzm8m_OM"
      }
    },
    {
      "cell_type": "code",
      "source": [
        "# macro_predicred\n",
        "# simple LinRegretion\n",
        "Y_PRED = LinReg.predict(macro2)\n",
        "print(\"predicted values according to model:\",  Y_PRED)"
      ],
      "metadata": {
        "colab": {
          "base_uri": "https://localhost:8080/"
        },
        "id": "B2Yvg-TWlC3H",
        "outputId": "9d3b1860-692a-4ce5-ad44-cf27ebb02c15"
      },
      "execution_count": 265,
      "outputs": [
        {
          "output_type": "stream",
          "name": "stdout",
          "text": [
            "predicted values according to model: [0.06677625 0.06203957 0.11274106 0.27177816 0.10613747 0.10156189\n",
            " 0.08166972 0.07202978 0.04439945 0.07330083 0.12178379 0.08121309]\n"
          ]
        }
      ]
    },
    {
      "cell_type": "code",
      "source": [
        "print('Coefficient of determination/ Level of confidance:', round(LinReg.score(macro2, DR),2))\n",
        "print('Mean Absolute Error:', metrics.mean_absolute_error(DR, Y_PRED))\n",
        "print('Mean Squared Error:', metrics.mean_squared_error(DR, Y_PRED))\n",
        "print('Root Mean Squared Error:', np.sqrt(metrics.mean_squared_error(DR, Y_PRED)))"
      ],
      "metadata": {
        "colab": {
          "base_uri": "https://localhost:8080/"
        },
        "id": "xvKcONmi0zIC",
        "outputId": "04eef3e5-3e3a-4054-d370-7983dcefd0f4"
      },
      "execution_count": 266,
      "outputs": [
        {
          "output_type": "stream",
          "name": "stdout",
          "text": [
            "Coefficient of determination/ Level of confidance: 0.68\n",
            "Mean Absolute Error: 0.03080252458220639\n",
            "Mean Squared Error: 0.001496116905780153\n",
            "Root Mean Squared Error: 0.038679670445599106\n"
          ]
        }
      ]
    },
    {
      "cell_type": "code",
      "source": [
        "def int_to_date(data):\n",
        "  date_str = str(data)\n",
        "  date = datetime.strptime(date_str, '%Y%m%d')\n",
        "  return date.strftime('%d-%m-%Y')\n",
        "\n",
        "data2[\"hist_dat\"] = data2['Date'].apply(lambda x: int_to_date(x))\n",
        "\n",
        "formatted_column = data2.pop('hist_dat')\n",
        "data2.insert(0, 'hist_dat', formatted_column)\n"
      ],
      "metadata": {
        "id": "mSt3Qf6l-Gbt"
      },
      "execution_count": 267,
      "outputs": []
    },
    {
      "cell_type": "code",
      "source": [
        "plt.figure(figsize=(20, 5))  # Adjusted figure size\n",
        "plt.plot(data2['hist_dat'], DR * 100, label=\"act DR (%)\")\n",
        "plt.plot(data2['hist_dat'], Y_PRED * 100, label=\"predicted DR (%)\")\n",
        "\n",
        "for i in range(len(data2['hist_dat'])):\n",
        "    plt.text(data2['hist_dat'][i], DR[i] * 100, '{:.1f}%'.format(DR[i] * 100), ha='center', va='bottom')\n",
        "\n",
        "for i in range(len(data2['hist_dat'])):\n",
        "    plt.text(data2['hist_dat'][i], Y_PRED[i] * 100, '{:.1f}%'.format(Y_PRED[i] * 100), ha='center', va='bottom')\n",
        "\n",
        "\n",
        "plt.xlabel('date')\n",
        "plt.xticks(rotation=45, fontsize=12)\n",
        "plt.ylabel('DR (%)', fontsize=14)\n",
        "plt.title('Fact vs Forecast', fontsize=1)\n",
        "plt.legend()\n",
        "\n",
        "plt.show()"
      ],
      "metadata": {
        "colab": {
          "base_uri": "https://localhost:8080/",
          "height": 541
        },
        "id": "m3DnBPxTAKE1",
        "outputId": "d9e5052b-3cc6-475b-952f-7e8ed28d2779"
      },
      "execution_count": 268,
      "outputs": [
        {
          "output_type": "display_data",
          "data": {
            "text/plain": [
              "<Figure size 2000x500 with 1 Axes>"
            ],
            "image/png": "[encoded data removed]"
          },
          "metadata": {}
        }
      ]
    },
    {
      "cell_type": "code",
      "source": [
        "url_f = 'https://raw.githubusercontent.com/OlhaDot/NewProjectStadyAcademy/master/StressTestAval/makro_FCST_Y.csv'\n",
        "date_forecast = pd.read_csv(url_f, sep=';')\n",
        "print(date_forecast.head())\n"
      ],
      "metadata": {
        "colab": {
          "base_uri": "https://localhost:8080/"
        },
        "id": "61RXQ0Y8aKZX",
        "outputId": "88349783-7575-4627-ddeb-b1b532aae64c"
      },
      "execution_count": 269,
      "outputs": [
        {
          "output_type": "stream",
          "name": "stdout",
          "text": [
            "       Date  GDP  Unemployment  CPI_avg  EUR_UAH_avg  USD_UAH_avg  \\\n",
            "0  20241231    5            12        7           43           39   \n",
            "1  20251231    7             9        9           48           42   \n",
            "2  20261231    6             8        7           51           43   \n",
            "3  20241231   -8            20       20           46           41   \n",
            "4  20251231   -5            18       17           59           52   \n",
            "\n",
            "   Key_rate_eop  EUR_UAH_eop  USD_UAH_eop   FCST  \n",
            "0            13           47           41  base   \n",
            "1            10           49           43  base   \n",
            "2             8           51           44  base   \n",
            "3            25           55           48  worst  \n",
            "4            25           64           55  worst  \n"
          ]
        }
      ]
    },
    {
      "cell_type": "code",
      "source": [
        "print(macro2)"
      ],
      "metadata": {
        "colab": {
          "base_uri": "https://localhost:8080/"
        },
        "id": "MOV2yrqeZUjL",
        "outputId": "f101951a-580c-413d-d7a2-68393230ba04"
      },
      "execution_count": 270,
      "outputs": [
        {
          "output_type": "stream",
          "name": "stdout",
          "text": [
            "    CPI_avg  EUR_UAH_avg\n",
            "0       0.6         10.3\n",
            "1      -0.3         10.6\n",
            "2      12.1         15.7\n",
            "3      48.5         24.2\n",
            "4      14.9         28.3\n",
            "5      14.5         30.0\n",
            "6      11.0         32.1\n",
            "7       7.9         28.9\n",
            "8       2.7         30.8\n",
            "9       9.3         32.3\n",
            "10     20.1         34.0\n",
            "11     13.4         39.6\n"
          ]
        }
      ]
    },
    {
      "cell_type": "code",
      "source": [
        "macro_new = date_forecast.copy()\n",
        "# base scenario\n",
        "macro_base_forecast = macro_new[macro_new['FCST'] != 'worst']\n",
        "macro_base_forecast = macro_base_forecast.drop([ 'Date', 'GDP', 'Unemployment', 'USD_UAH_avg', 'Key_rate_eop' , 'EUR_UAH_eop', 'USD_UAH_eop',  'FCST'], axis = 1)\n",
        "print(macro_base_forecast.head())\n",
        "\n",
        "\n",
        "# macro = sm.add_constant(X)\n",
        "# regression = sm.OLS(DR, macro)\n",
        "# result = regression.fit()"
      ],
      "metadata": {
        "colab": {
          "base_uri": "https://localhost:8080/"
        },
        "id": "7xInFhizexJE",
        "outputId": "dc1353f5-61b1-4bf0-e524-f7f0649c12c6"
      },
      "execution_count": 275,
      "outputs": [
        {
          "output_type": "stream",
          "name": "stdout",
          "text": [
            "   CPI_avg  EUR_UAH_avg\n",
            "0        7           43\n",
            "1        9           48\n",
            "2        7           51\n"
          ]
        }
      ]
    },
    {
      "cell_type": "code",
      "source": [
        "# worse scenario\n",
        "# macro_worse_forecast = macro_new[macro_new['FCST'] == 'worst']\n",
        "# print(macro_worse_forecast.head())\n"
      ],
      "metadata": {
        "colab": {
          "base_uri": "https://localhost:8080/"
        },
        "id": "AgfYkykPkZCY",
        "outputId": "8535d7c1-0f1e-4c26-a28d-c703834b0fb6"
      },
      "execution_count": 88,
      "outputs": [
        {
          "output_type": "stream",
          "name": "stdout",
          "text": [
            "       Date  GDP  Unemployment  CPI_avg  EUR_UAH_avg  USD_UAH_avg  \\\n",
            "3  20241231   -8            20       20           46           41   \n",
            "4  20251231   -5            18       17           59           52   \n",
            "5  20261231   -5            17       14           67           58   \n",
            "\n",
            "   Key_rate_eop  EUR_UAH_eop  USD_UAH_eop   FCST  \n",
            "3            25           55           48  worst  \n",
            "4            25           64           55  worst  \n",
            "5            20           70           60  worst  \n"
          ]
        }
      ]
    },
    {
      "cell_type": "code",
      "source": [
        "macro_base_forecast_2 =  sm.add_constant(macro_base_forecast)\n",
        "print(macro_base_forecast_2)"
      ],
      "metadata": {
        "id": "iVu8ODQ-aKtf",
        "colab": {
          "base_uri": "https://localhost:8080/"
        },
        "outputId": "2aeeb060-4c47-4622-9425-99d32ad50e8a"
      },
      "execution_count": 276,
      "outputs": [
        {
          "output_type": "stream",
          "name": "stdout",
          "text": [
            "   const  CPI_avg  EUR_UAH_avg\n",
            "0    1.0        7           43\n",
            "1    1.0        9           48\n",
            "2    1.0        7           51\n"
          ]
        }
      ]
    },
    {
      "cell_type": "code",
      "source": [
        "# test linear model - basic (all variables)\n",
        "\n",
        "y_forecast_base= result.predict(macro_base_forecast)"
      ],
      "metadata": {
        "id": "L4PAdODxRNV7"
      },
      "execution_count": 277,
      "outputs": []
    },
    {
      "cell_type": "code",
      "source": [
        "print(macro_base_forecast)"
      ],
      "metadata": {
        "colab": {
          "base_uri": "https://localhost:8080/"
        },
        "id": "SjvgdAwYI2yw",
        "outputId": "77c1ebee-96a6-41b9-836f-1682179df339"
      },
      "execution_count": 247,
      "outputs": [
        {
          "output_type": "stream",
          "name": "stdout",
          "text": [
            "   GDP  Unemployment  CPI_avg  EUR_UAH_avg\n",
            "0    5            12        7           43\n",
            "1    7             9        9           48\n",
            "2    6             8        7           51\n"
          ]
        }
      ]
    },
    {
      "cell_type": "code",
      "source": [
        "print(y_forecast_base)"
      ],
      "metadata": {
        "colab": {
          "base_uri": "https://localhost:8080/"
        },
        "id": "-oK-1UOZg2Qk",
        "outputId": "c132cff1-e420-4bb8-88ab-9fc17eb945e4"
      },
      "execution_count": 278,
      "outputs": [
        {
          "output_type": "stream",
          "name": "stdout",
          "text": [
            "0    0.079108\n",
            "1    0.094217\n",
            "2    0.087335\n",
            "dtype: float64\n"
          ]
        }
      ]
    },
    {
      "cell_type": "code",
      "source": [
        "# def int_to_date(data):\n",
        "#   date_str = str(data)\n",
        "#   date = datetime.strptime(date_str, '%Y%m%d')\n",
        "#   return date.strftime('%d-%m-%Y')\n",
        "\n",
        "macro_base_forecast[\"hist_dat\"] = macro_base_forecast['Date'].apply(lambda x: int_to_date(x))\n",
        "\n",
        "formatted_column = macro_base_forecast.pop('hist_dat')\n",
        "macro_base_forecast.insert(0, 'hist_dat', formatted_column)"
      ],
      "metadata": {
        "id": "VL2dwI6RiwG2",
        "colab": {
          "base_uri": "https://localhost:8080/",
          "height": 477
        },
        "outputId": "2bb1f738-d7d7-4876-c609-2e7c13b16eea"
      },
      "execution_count": 244,
      "outputs": [
        {
          "output_type": "error",
          "ename": "KeyError",
          "evalue": "'Date'",
          "traceback": [
            "\u001b[0;31m---------------------------------------------------------------------------\u001b[0m",
            "\u001b[0;31mKeyError\u001b[0m                                  Traceback (most recent call last)",
            "\u001b[0;32m/usr/local/lib/python3.10/dist-packages/pandas/core/indexes/base.py\u001b[0m in \u001b[0;36mget_loc\u001b[0;34m(self, key, method, tolerance)\u001b[0m\n\u001b[1;32m   3801\u001b[0m             \u001b[0;32mtry\u001b[0m\u001b[0;34m:\u001b[0m\u001b[0;34m\u001b[0m\u001b[0;34m\u001b[0m\u001b[0m\n\u001b[0;32m-> 3802\u001b[0;31m                 \u001b[0;32mreturn\u001b[0m \u001b[0mself\u001b[0m\u001b[0;34m.\u001b[0m\u001b[0m_engine\u001b[0m\u001b[0;34m.\u001b[0m\u001b[0mget_loc\u001b[0m\u001b[0;34m(\u001b[0m\u001b[0mcasted_key\u001b[0m\u001b[0;34m)\u001b[0m\u001b[0;34m\u001b[0m\u001b[0;34m\u001b[0m\u001b[0m\n\u001b[0m\u001b[1;32m   3803\u001b[0m             \u001b[0;32mexcept\u001b[0m \u001b[0mKeyError\u001b[0m \u001b[0;32mas\u001b[0m \u001b[0merr\u001b[0m\u001b[0;34m:\u001b[0m\u001b[0;34m\u001b[0m\u001b[0;34m\u001b[0m\u001b[0m\n",
            "\u001b[0;32m/usr/local/lib/python3.10/dist-packages/pandas/_libs/index.pyx\u001b[0m in \u001b[0;36mpandas._libs.index.IndexEngine.get_loc\u001b[0;34m()\u001b[0m\n",
            "\u001b[0;32m/usr/local/lib/python3.10/dist-packages/pandas/_libs/index.pyx\u001b[0m in \u001b[0;36mpandas._libs.index.IndexEngine.get_loc\u001b[0;34m()\u001b[0m\n",
            "\u001b[0;32mpandas/_libs/hashtable_class_helper.pxi\u001b[0m in \u001b[0;36mpandas._libs.hashtable.PyObjectHashTable.get_item\u001b[0;34m()\u001b[0m\n",
            "\u001b[0;32mpandas/_libs/hashtable_class_helper.pxi\u001b[0m in \u001b[0;36mpandas._libs.hashtable.PyObjectHashTable.get_item\u001b[0;34m()\u001b[0m\n",
            "\u001b[0;31mKeyError\u001b[0m: 'Date'",
            "\nThe above exception was the direct cause of the following exception:\n",
            "\u001b[0;31mKeyError\u001b[0m                                  Traceback (most recent call last)",
            "\u001b[0;32m<ipython-input-244-5c55b89b1e0e>\u001b[0m in \u001b[0;36m<cell line: 6>\u001b[0;34m()\u001b[0m\n\u001b[1;32m      4\u001b[0m \u001b[0;31m#   return date.strftime('%d-%m-%Y')\u001b[0m\u001b[0;34m\u001b[0m\u001b[0;34m\u001b[0m\u001b[0m\n\u001b[1;32m      5\u001b[0m \u001b[0;34m\u001b[0m\u001b[0m\n\u001b[0;32m----> 6\u001b[0;31m \u001b[0mmacro_base_forecast\u001b[0m\u001b[0;34m[\u001b[0m\u001b[0;34m\"hist_dat\"\u001b[0m\u001b[0;34m]\u001b[0m \u001b[0;34m=\u001b[0m \u001b[0mmacro_base_forecast\u001b[0m\u001b[0;34m[\u001b[0m\u001b[0;34m'Date'\u001b[0m\u001b[0;34m]\u001b[0m\u001b[0;34m.\u001b[0m\u001b[0mapply\u001b[0m\u001b[0;34m(\u001b[0m\u001b[0;32mlambda\u001b[0m \u001b[0mx\u001b[0m\u001b[0;34m:\u001b[0m \u001b[0mint_to_date\u001b[0m\u001b[0;34m(\u001b[0m\u001b[0mx\u001b[0m\u001b[0;34m)\u001b[0m\u001b[0;34m)\u001b[0m\u001b[0;34m\u001b[0m\u001b[0;34m\u001b[0m\u001b[0m\n\u001b[0m\u001b[1;32m      7\u001b[0m \u001b[0;34m\u001b[0m\u001b[0m\n\u001b[1;32m      8\u001b[0m \u001b[0mformatted_column\u001b[0m \u001b[0;34m=\u001b[0m \u001b[0mmacro_base_forecast\u001b[0m\u001b[0;34m.\u001b[0m\u001b[0mpop\u001b[0m\u001b[0;34m(\u001b[0m\u001b[0;34m'hist_dat'\u001b[0m\u001b[0;34m)\u001b[0m\u001b[0;34m\u001b[0m\u001b[0;34m\u001b[0m\u001b[0m\n",
            "\u001b[0;32m/usr/local/lib/python3.10/dist-packages/pandas/core/frame.py\u001b[0m in \u001b[0;36m__getitem__\u001b[0;34m(self, key)\u001b[0m\n\u001b[1;32m   3805\u001b[0m             \u001b[0;32mif\u001b[0m \u001b[0mself\u001b[0m\u001b[0;34m.\u001b[0m\u001b[0mcolumns\u001b[0m\u001b[0;34m.\u001b[0m\u001b[0mnlevels\u001b[0m \u001b[0;34m>\u001b[0m \u001b[0;36m1\u001b[0m\u001b[0;34m:\u001b[0m\u001b[0;34m\u001b[0m\u001b[0;34m\u001b[0m\u001b[0m\n\u001b[1;32m   3806\u001b[0m                 \u001b[0;32mreturn\u001b[0m \u001b[0mself\u001b[0m\u001b[0;34m.\u001b[0m\u001b[0m_getitem_multilevel\u001b[0m\u001b[0;34m(\u001b[0m\u001b[0mkey\u001b[0m\u001b[0;34m)\u001b[0m\u001b[0;34m\u001b[0m\u001b[0;34m\u001b[0m\u001b[0m\n\u001b[0;32m-> 3807\u001b[0;31m             \u001b[0mindexer\u001b[0m \u001b[0;34m=\u001b[0m \u001b[0mself\u001b[0m\u001b[0;34m.\u001b[0m\u001b[0mcolumns\u001b[0m\u001b[0;34m.\u001b[0m\u001b[0mget_loc\u001b[0m\u001b[0;34m(\u001b[0m\u001b[0mkey\u001b[0m\u001b[0;34m)\u001b[0m\u001b[0;34m\u001b[0m\u001b[0;34m\u001b[0m\u001b[0m\n\u001b[0m\u001b[1;32m   3808\u001b[0m             \u001b[0;32mif\u001b[0m \u001b[0mis_integer\u001b[0m\u001b[0;34m(\u001b[0m\u001b[0mindexer\u001b[0m\u001b[0;34m)\u001b[0m\u001b[0;34m:\u001b[0m\u001b[0;34m\u001b[0m\u001b[0;34m\u001b[0m\u001b[0m\n\u001b[1;32m   3809\u001b[0m                 \u001b[0mindexer\u001b[0m \u001b[0;34m=\u001b[0m \u001b[0;34m[\u001b[0m\u001b[0mindexer\u001b[0m\u001b[0;34m]\u001b[0m\u001b[0;34m\u001b[0m\u001b[0;34m\u001b[0m\u001b[0m\n",
            "\u001b[0;32m/usr/local/lib/python3.10/dist-packages/pandas/core/indexes/base.py\u001b[0m in \u001b[0;36mget_loc\u001b[0;34m(self, key, method, tolerance)\u001b[0m\n\u001b[1;32m   3802\u001b[0m                 \u001b[0;32mreturn\u001b[0m \u001b[0mself\u001b[0m\u001b[0;34m.\u001b[0m\u001b[0m_engine\u001b[0m\u001b[0;34m.\u001b[0m\u001b[0mget_loc\u001b[0m\u001b[0;34m(\u001b[0m\u001b[0mcasted_key\u001b[0m\u001b[0;34m)\u001b[0m\u001b[0;34m\u001b[0m\u001b[0;34m\u001b[0m\u001b[0m\n\u001b[1;32m   3803\u001b[0m             \u001b[0;32mexcept\u001b[0m \u001b[0mKeyError\u001b[0m \u001b[0;32mas\u001b[0m \u001b[0merr\u001b[0m\u001b[0;34m:\u001b[0m\u001b[0;34m\u001b[0m\u001b[0;34m\u001b[0m\u001b[0m\n\u001b[0;32m-> 3804\u001b[0;31m                 \u001b[0;32mraise\u001b[0m \u001b[0mKeyError\u001b[0m\u001b[0;34m(\u001b[0m\u001b[0mkey\u001b[0m\u001b[0;34m)\u001b[0m \u001b[0;32mfrom\u001b[0m \u001b[0merr\u001b[0m\u001b[0;34m\u001b[0m\u001b[0;34m\u001b[0m\u001b[0m\n\u001b[0m\u001b[1;32m   3805\u001b[0m             \u001b[0;32mexcept\u001b[0m \u001b[0mTypeError\u001b[0m\u001b[0;34m:\u001b[0m\u001b[0;34m\u001b[0m\u001b[0;34m\u001b[0m\u001b[0m\n\u001b[1;32m   3806\u001b[0m                 \u001b[0;31m# If we have a listlike key, _check_indexing_error will raise\u001b[0m\u001b[0;34m\u001b[0m\u001b[0;34m\u001b[0m\u001b[0m\n",
            "\u001b[0;31mKeyError\u001b[0m: 'Date'"
          ]
        }
      ]
    },
    {
      "cell_type": "code",
      "source": [
        "print(macro_base_forecast)"
      ],
      "metadata": {
        "colab": {
          "base_uri": "https://localhost:8080/"
        },
        "id": "tO_wz9bRjNme",
        "outputId": "2b48ffa5-eb87-4b14-dd6d-50e3515ba5f6"
      },
      "execution_count": 32,
      "outputs": [
        {
          "output_type": "stream",
          "name": "stdout",
          "text": [
            "     hist_dat  const      Date  GDP  Unemployment  CPI_avg  EUR_UAH_avg  \\\n",
            "0  31-12-2024    1.0  20241231    5            12        7           43   \n",
            "1  31-12-2025    1.0  20251231    7             9        9           48   \n",
            "2  31-12-2026    1.0  20261231    6             8        7           51   \n",
            "\n",
            "   USD_UAH_avg  Key_rate_eop  EUR_UAH_eop  USD_UAH_eop  \n",
            "0           39            13           47           41  \n",
            "1           42            10           49           43  \n",
            "2           43             8           51           44  \n"
          ]
        }
      ]
    },
    {
      "cell_type": "code",
      "source": [
        "plt.figure(figsize=(20, 5))  # Adjusted figure size\n",
        "plt.plot(macro_base_forecast['hist_dat'], y_forecast_base * 100, label=\"forecasted DR (%)\")\n",
        "\n",
        "\n",
        "for i in range(len(macro_base_forecast['hist_dat'])):\n",
        "    plt.text(macro_base_forecast['hist_dat'][i], y_forecast_base[i] * 100, '{:.1f}%'.format(y_forecast_base[i] * 100), ha='center', va='bottom')\n",
        "\n",
        "\n",
        "plt.xlabel('date')\n",
        "plt.xticks(rotation=45, fontsize=12)\n",
        "plt.ylabel('DR forecasted(%)', fontsize=14)\n",
        "\n",
        "\n",
        "plt.show()"
      ],
      "metadata": {
        "colab": {
          "base_uri": "https://localhost:8080/",
          "height": 495
        },
        "id": "LIFLMy_wg2T_",
        "outputId": "ba14a3e3-5d19-43f9-b9cf-15af03fcb4f2"
      },
      "execution_count": 245,
      "outputs": [
        {
          "output_type": "error",
          "ename": "KeyError",
          "evalue": "'hist_dat'",
          "traceback": [
            "\u001b[0;31m---------------------------------------------------------------------------\u001b[0m",
            "\u001b[0;31mKeyError\u001b[0m                                  Traceback (most recent call last)",
            "\u001b[0;32m/usr/local/lib/python3.10/dist-packages/pandas/core/indexes/base.py\u001b[0m in \u001b[0;36mget_loc\u001b[0;34m(self, key, method, tolerance)\u001b[0m\n\u001b[1;32m   3801\u001b[0m             \u001b[0;32mtry\u001b[0m\u001b[0;34m:\u001b[0m\u001b[0;34m\u001b[0m\u001b[0;34m\u001b[0m\u001b[0m\n\u001b[0;32m-> 3802\u001b[0;31m                 \u001b[0;32mreturn\u001b[0m \u001b[0mself\u001b[0m\u001b[0;34m.\u001b[0m\u001b[0m_engine\u001b[0m\u001b[0;34m.\u001b[0m\u001b[0mget_loc\u001b[0m\u001b[0;34m(\u001b[0m\u001b[0mcasted_key\u001b[0m\u001b[0;34m)\u001b[0m\u001b[0;34m\u001b[0m\u001b[0;34m\u001b[0m\u001b[0m\n\u001b[0m\u001b[1;32m   3803\u001b[0m             \u001b[0;32mexcept\u001b[0m \u001b[0mKeyError\u001b[0m \u001b[0;32mas\u001b[0m \u001b[0merr\u001b[0m\u001b[0;34m:\u001b[0m\u001b[0;34m\u001b[0m\u001b[0;34m\u001b[0m\u001b[0m\n",
            "\u001b[0;32m/usr/local/lib/python3.10/dist-packages/pandas/_libs/index.pyx\u001b[0m in \u001b[0;36mpandas._libs.index.IndexEngine.get_loc\u001b[0;34m()\u001b[0m\n",
            "\u001b[0;32m/usr/local/lib/python3.10/dist-packages/pandas/_libs/index.pyx\u001b[0m in \u001b[0;36mpandas._libs.index.IndexEngine.get_loc\u001b[0;34m()\u001b[0m\n",
            "\u001b[0;32mpandas/_libs/hashtable_class_helper.pxi\u001b[0m in \u001b[0;36mpandas._libs.hashtable.PyObjectHashTable.get_item\u001b[0;34m()\u001b[0m\n",
            "\u001b[0;32mpandas/_libs/hashtable_class_helper.pxi\u001b[0m in \u001b[0;36mpandas._libs.hashtable.PyObjectHashTable.get_item\u001b[0;34m()\u001b[0m\n",
            "\u001b[0;31mKeyError\u001b[0m: 'hist_dat'",
            "\nThe above exception was the direct cause of the following exception:\n",
            "\u001b[0;31mKeyError\u001b[0m                                  Traceback (most recent call last)",
            "\u001b[0;32m<ipython-input-245-ce04ba255810>\u001b[0m in \u001b[0;36m<cell line: 2>\u001b[0;34m()\u001b[0m\n\u001b[1;32m      1\u001b[0m \u001b[0mplt\u001b[0m\u001b[0;34m.\u001b[0m\u001b[0mfigure\u001b[0m\u001b[0;34m(\u001b[0m\u001b[0mfigsize\u001b[0m\u001b[0;34m=\u001b[0m\u001b[0;34m(\u001b[0m\u001b[0;36m20\u001b[0m\u001b[0;34m,\u001b[0m \u001b[0;36m5\u001b[0m\u001b[0;34m)\u001b[0m\u001b[0;34m)\u001b[0m  \u001b[0;31m# Adjusted figure size\u001b[0m\u001b[0;34m\u001b[0m\u001b[0;34m\u001b[0m\u001b[0m\n\u001b[0;32m----> 2\u001b[0;31m \u001b[0mplt\u001b[0m\u001b[0;34m.\u001b[0m\u001b[0mplot\u001b[0m\u001b[0;34m(\u001b[0m\u001b[0mmacro_base_forecast\u001b[0m\u001b[0;34m[\u001b[0m\u001b[0;34m'hist_dat'\u001b[0m\u001b[0;34m]\u001b[0m\u001b[0;34m,\u001b[0m \u001b[0my_forecast_base\u001b[0m \u001b[0;34m*\u001b[0m \u001b[0;36m100\u001b[0m\u001b[0;34m,\u001b[0m \u001b[0mlabel\u001b[0m\u001b[0;34m=\u001b[0m\u001b[0;34m\"forecasted DR (%)\"\u001b[0m\u001b[0;34m)\u001b[0m\u001b[0;34m\u001b[0m\u001b[0;34m\u001b[0m\u001b[0m\n\u001b[0m\u001b[1;32m      3\u001b[0m \u001b[0;34m\u001b[0m\u001b[0m\n\u001b[1;32m      4\u001b[0m \u001b[0;34m\u001b[0m\u001b[0m\n\u001b[1;32m      5\u001b[0m \u001b[0;32mfor\u001b[0m \u001b[0mi\u001b[0m \u001b[0;32min\u001b[0m \u001b[0mrange\u001b[0m\u001b[0;34m(\u001b[0m\u001b[0mlen\u001b[0m\u001b[0;34m(\u001b[0m\u001b[0mmacro_base_forecast\u001b[0m\u001b[0;34m[\u001b[0m\u001b[0;34m'hist_dat'\u001b[0m\u001b[0;34m]\u001b[0m\u001b[0;34m)\u001b[0m\u001b[0;34m)\u001b[0m\u001b[0;34m:\u001b[0m\u001b[0;34m\u001b[0m\u001b[0;34m\u001b[0m\u001b[0m\n",
            "\u001b[0;32m/usr/local/lib/python3.10/dist-packages/pandas/core/frame.py\u001b[0m in \u001b[0;36m__getitem__\u001b[0;34m(self, key)\u001b[0m\n\u001b[1;32m   3805\u001b[0m             \u001b[0;32mif\u001b[0m \u001b[0mself\u001b[0m\u001b[0;34m.\u001b[0m\u001b[0mcolumns\u001b[0m\u001b[0;34m.\u001b[0m\u001b[0mnlevels\u001b[0m \u001b[0;34m>\u001b[0m \u001b[0;36m1\u001b[0m\u001b[0;34m:\u001b[0m\u001b[0;34m\u001b[0m\u001b[0;34m\u001b[0m\u001b[0m\n\u001b[1;32m   3806\u001b[0m                 \u001b[0;32mreturn\u001b[0m \u001b[0mself\u001b[0m\u001b[0;34m.\u001b[0m\u001b[0m_getitem_multilevel\u001b[0m\u001b[0;34m(\u001b[0m\u001b[0mkey\u001b[0m\u001b[0;34m)\u001b[0m\u001b[0;34m\u001b[0m\u001b[0;34m\u001b[0m\u001b[0m\n\u001b[0;32m-> 3807\u001b[0;31m             \u001b[0mindexer\u001b[0m \u001b[0;34m=\u001b[0m \u001b[0mself\u001b[0m\u001b[0;34m.\u001b[0m\u001b[0mcolumns\u001b[0m\u001b[0;34m.\u001b[0m\u001b[0mget_loc\u001b[0m\u001b[0;34m(\u001b[0m\u001b[0mkey\u001b[0m\u001b[0;34m)\u001b[0m\u001b[0;34m\u001b[0m\u001b[0;34m\u001b[0m\u001b[0m\n\u001b[0m\u001b[1;32m   3808\u001b[0m             \u001b[0;32mif\u001b[0m \u001b[0mis_integer\u001b[0m\u001b[0;34m(\u001b[0m\u001b[0mindexer\u001b[0m\u001b[0;34m)\u001b[0m\u001b[0;34m:\u001b[0m\u001b[0;34m\u001b[0m\u001b[0;34m\u001b[0m\u001b[0m\n\u001b[1;32m   3809\u001b[0m                 \u001b[0mindexer\u001b[0m \u001b[0;34m=\u001b[0m \u001b[0;34m[\u001b[0m\u001b[0mindexer\u001b[0m\u001b[0;34m]\u001b[0m\u001b[0;34m\u001b[0m\u001b[0;34m\u001b[0m\u001b[0m\n",
            "\u001b[0;32m/usr/local/lib/python3.10/dist-packages/pandas/core/indexes/base.py\u001b[0m in \u001b[0;36mget_loc\u001b[0;34m(self, key, method, tolerance)\u001b[0m\n\u001b[1;32m   3802\u001b[0m                 \u001b[0;32mreturn\u001b[0m \u001b[0mself\u001b[0m\u001b[0;34m.\u001b[0m\u001b[0m_engine\u001b[0m\u001b[0;34m.\u001b[0m\u001b[0mget_loc\u001b[0m\u001b[0;34m(\u001b[0m\u001b[0mcasted_key\u001b[0m\u001b[0;34m)\u001b[0m\u001b[0;34m\u001b[0m\u001b[0;34m\u001b[0m\u001b[0m\n\u001b[1;32m   3803\u001b[0m             \u001b[0;32mexcept\u001b[0m \u001b[0mKeyError\u001b[0m \u001b[0;32mas\u001b[0m \u001b[0merr\u001b[0m\u001b[0;34m:\u001b[0m\u001b[0;34m\u001b[0m\u001b[0;34m\u001b[0m\u001b[0m\n\u001b[0;32m-> 3804\u001b[0;31m                 \u001b[0;32mraise\u001b[0m \u001b[0mKeyError\u001b[0m\u001b[0;34m(\u001b[0m\u001b[0mkey\u001b[0m\u001b[0;34m)\u001b[0m \u001b[0;32mfrom\u001b[0m \u001b[0merr\u001b[0m\u001b[0;34m\u001b[0m\u001b[0;34m\u001b[0m\u001b[0m\n\u001b[0m\u001b[1;32m   3805\u001b[0m             \u001b[0;32mexcept\u001b[0m \u001b[0mTypeError\u001b[0m\u001b[0;34m:\u001b[0m\u001b[0;34m\u001b[0m\u001b[0;34m\u001b[0m\u001b[0m\n\u001b[1;32m   3806\u001b[0m                 \u001b[0;31m# If we have a listlike key, _check_indexing_error will raise\u001b[0m\u001b[0;34m\u001b[0m\u001b[0;34m\u001b[0m\u001b[0m\n",
            "\u001b[0;31mKeyError\u001b[0m: 'hist_dat'"
          ]
        },
        {
          "output_type": "display_data",
          "data": {
            "text/plain": [
              "<Figure size 2000x500 with 0 Axes>"
            ]
          },
          "metadata": {}
        }
      ]
    },
    {
      "cell_type": "code",
      "source": [
        "macro_worse_forecast =  sm.add_constant(macro_worse_forecast)\n",
        "y_forecast_worse= LinReg.predict(macro_worse_forecast)"
      ],
      "metadata": {
        "id": "TkE55YO7lHtb"
      },
      "execution_count": null,
      "outputs": []
    },
    {
      "cell_type": "code",
      "source": [
        "print(y_forecast_worse)"
      ],
      "metadata": {
        "colab": {
          "base_uri": "https://localhost:8080/"
        },
        "id": "uGi3j1ntlMrn",
        "outputId": "68131f8f-bc34-4c87-a420-ef9c135b259f"
      },
      "execution_count": null,
      "outputs": [
        {
          "output_type": "stream",
          "name": "stdout",
          "text": [
            "[0.24219747 0.19997574 0.21417686]\n"
          ]
        }
      ]
    },
    {
      "cell_type": "code",
      "source": [
        "macro_worse_forecast[\"hist_dat\"] = macro_worse_forecast['Date'].apply(lambda x: int_to_date(x))\n",
        "\n",
        "formatted_column = macro_worse_forecast.pop('hist_dat')\n",
        "macro_worse_forecast.insert(0, 'hist_dat', formatted_column)"
      ],
      "metadata": {
        "id": "ASagl-3IlMw-"
      },
      "execution_count": null,
      "outputs": []
    },
    {
      "cell_type": "code",
      "source": [
        "print(macro_worse_forecast)"
      ],
      "metadata": {
        "colab": {
          "base_uri": "https://localhost:8080/"
        },
        "id": "ZyPB4gNEmzbi",
        "outputId": "482a7386-0c52-4c1f-ab9b-244ad505aabf"
      },
      "execution_count": null,
      "outputs": [
        {
          "output_type": "stream",
          "name": "stdout",
          "text": [
            "     hist_dat  const      Date  GDP  Unemployment  CPI_avg  EUR_UAH_avg  \\\n",
            "3  31-12-2024    1.0  20241231   -8            20       20           46   \n",
            "4  31-12-2025    1.0  20251231   -5            18       17           59   \n",
            "5  31-12-2026    1.0  20261231   -5            17       14           67   \n",
            "\n",
            "   USD_UAH_avg  Key_rate_eop  EUR_UAH_eop  USD_UAH_eop  \n",
            "3           41            25           55           48  \n",
            "4           52            25           64           55  \n",
            "5           58            20           70           60  \n"
          ]
        }
      ]
    },
    {
      "cell_type": "code",
      "source": [
        "plt.figure(figsize=(20, 5))  # Adjusted figure size\n",
        "plt.plot(macro_worse_forecast['hist_dat'], y_forecast_worse * 100, label=\"forecasted worse DR (%)\")\n",
        "\n",
        "for i in range(len(macro_worse_forecast['hist_dat'])):\n",
        "    plt.text(macro_worse_forecast['hist_dat'][i], y_forecast_worse[i] * 100, '{:.1f}%'.format(y_forecast_worse[i] * 100), ha='center', va='bottom')\n",
        "\n",
        "plt.xlabel('date')\n",
        "plt.xticks(rotation=45, fontsize=12)\n",
        "plt.ylabel('DR forecasted worse(%)', fontsize=14)\n",
        "\n",
        "plt.show()"
      ],
      "metadata": {
        "colab": {
          "base_uri": "https://localhost:8080/",
          "height": 905
        },
        "id": "hNb9VIVRlM0P",
        "outputId": "ef28e5ac-9f06-4cc8-f48f-73d0c7c6123b"
      },
      "execution_count": null,
      "outputs": [
        {
          "output_type": "error",
          "ename": "KeyError",
          "evalue": "0",
          "traceback": [
            "\u001b[0;31m---------------------------------------------------------------------------\u001b[0m",
            "\u001b[0;31mKeyError\u001b[0m                                  Traceback (most recent call last)",
            "\u001b[0;32m/usr/local/lib/python3.10/dist-packages/pandas/core/indexes/base.py\u001b[0m in \u001b[0;36mget_loc\u001b[0;34m(self, key, method, tolerance)\u001b[0m\n\u001b[1;32m   3801\u001b[0m             \u001b[0;32mtry\u001b[0m\u001b[0;34m:\u001b[0m\u001b[0;34m\u001b[0m\u001b[0;34m\u001b[0m\u001b[0m\n\u001b[0;32m-> 3802\u001b[0;31m                 \u001b[0;32mreturn\u001b[0m \u001b[0mself\u001b[0m\u001b[0;34m.\u001b[0m\u001b[0m_engine\u001b[0m\u001b[0;34m.\u001b[0m\u001b[0mget_loc\u001b[0m\u001b[0;34m(\u001b[0m\u001b[0mcasted_key\u001b[0m\u001b[0;34m)\u001b[0m\u001b[0;34m\u001b[0m\u001b[0;34m\u001b[0m\u001b[0m\n\u001b[0m\u001b[1;32m   3803\u001b[0m             \u001b[0;32mexcept\u001b[0m \u001b[0mKeyError\u001b[0m \u001b[0;32mas\u001b[0m \u001b[0merr\u001b[0m\u001b[0;34m:\u001b[0m\u001b[0;34m\u001b[0m\u001b[0;34m\u001b[0m\u001b[0m\n",
            "\u001b[0;32m/usr/local/lib/python3.10/dist-packages/pandas/_libs/index.pyx\u001b[0m in \u001b[0;36mpandas._libs.index.IndexEngine.get_loc\u001b[0;34m()\u001b[0m\n",
            "\u001b[0;32m/usr/local/lib/python3.10/dist-packages/pandas/_libs/index.pyx\u001b[0m in \u001b[0;36mpandas._libs.index.IndexEngine.get_loc\u001b[0;34m()\u001b[0m\n",
            "\u001b[0;32mpandas/_libs/hashtable_class_helper.pxi\u001b[0m in \u001b[0;36mpandas._libs.hashtable.Int64HashTable.get_item\u001b[0;34m()\u001b[0m\n",
            "\u001b[0;32mpandas/_libs/hashtable_class_helper.pxi\u001b[0m in \u001b[0;36mpandas._libs.hashtable.Int64HashTable.get_item\u001b[0;34m()\u001b[0m\n",
            "\u001b[0;31mKeyError\u001b[0m: 0",
            "\nThe above exception was the direct cause of the following exception:\n",
            "\u001b[0;31mKeyError\u001b[0m                                  Traceback (most recent call last)",
            "\u001b[0;32m<ipython-input-123-6239d917f4c4>\u001b[0m in \u001b[0;36m<cell line: 4>\u001b[0;34m()\u001b[0m\n\u001b[1;32m      3\u001b[0m \u001b[0;34m\u001b[0m\u001b[0m\n\u001b[1;32m      4\u001b[0m \u001b[0;32mfor\u001b[0m \u001b[0mi\u001b[0m \u001b[0;32min\u001b[0m \u001b[0mrange\u001b[0m\u001b[0;34m(\u001b[0m\u001b[0mlen\u001b[0m\u001b[0;34m(\u001b[0m\u001b[0mmacro_worse_forecast\u001b[0m\u001b[0;34m[\u001b[0m\u001b[0;34m'hist_dat'\u001b[0m\u001b[0;34m]\u001b[0m\u001b[0;34m)\u001b[0m\u001b[0;34m)\u001b[0m\u001b[0;34m:\u001b[0m\u001b[0;34m\u001b[0m\u001b[0;34m\u001b[0m\u001b[0m\n\u001b[0;32m----> 5\u001b[0;31m     \u001b[0mplt\u001b[0m\u001b[0;34m.\u001b[0m\u001b[0mtext\u001b[0m\u001b[0;34m(\u001b[0m\u001b[0mmacro_worse_forecast\u001b[0m\u001b[0;34m[\u001b[0m\u001b[0;34m'hist_dat'\u001b[0m\u001b[0;34m]\u001b[0m\u001b[0;34m[\u001b[0m\u001b[0mi\u001b[0m\u001b[0;34m]\u001b[0m\u001b[0;34m,\u001b[0m \u001b[0my_forecast_worse\u001b[0m\u001b[0;34m[\u001b[0m\u001b[0mi\u001b[0m\u001b[0;34m]\u001b[0m \u001b[0;34m*\u001b[0m \u001b[0;36m100\u001b[0m\u001b[0;34m,\u001b[0m \u001b[0;34m'{:.1f}%'\u001b[0m\u001b[0;34m.\u001b[0m\u001b[0mformat\u001b[0m\u001b[0;34m(\u001b[0m\u001b[0my_forecast_worse\u001b[0m\u001b[0;34m[\u001b[0m\u001b[0mi\u001b[0m\u001b[0;34m]\u001b[0m \u001b[0;34m*\u001b[0m \u001b[0;36m100\u001b[0m\u001b[0;34m)\u001b[0m\u001b[0;34m,\u001b[0m \u001b[0mha\u001b[0m\u001b[0;34m=\u001b[0m\u001b[0;34m'center'\u001b[0m\u001b[0;34m,\u001b[0m \u001b[0mva\u001b[0m\u001b[0;34m=\u001b[0m\u001b[0;34m'bottom'\u001b[0m\u001b[0;34m)\u001b[0m\u001b[0;34m\u001b[0m\u001b[0;34m\u001b[0m\u001b[0m\n\u001b[0m\u001b[1;32m      6\u001b[0m \u001b[0;34m\u001b[0m\u001b[0m\n\u001b[1;32m      7\u001b[0m \u001b[0mplt\u001b[0m\u001b[0;34m.\u001b[0m\u001b[0mxlabel\u001b[0m\u001b[0;34m(\u001b[0m\u001b[0;34m'date'\u001b[0m\u001b[0;34m)\u001b[0m\u001b[0;34m\u001b[0m\u001b[0;34m\u001b[0m\u001b[0m\n",
            "\u001b[0;32m/usr/local/lib/python3.10/dist-packages/pandas/core/series.py\u001b[0m in \u001b[0;36m__getitem__\u001b[0;34m(self, key)\u001b[0m\n\u001b[1;32m    979\u001b[0m \u001b[0;34m\u001b[0m\u001b[0m\n\u001b[1;32m    980\u001b[0m         \u001b[0;32melif\u001b[0m \u001b[0mkey_is_scalar\u001b[0m\u001b[0;34m:\u001b[0m\u001b[0;34m\u001b[0m\u001b[0;34m\u001b[0m\u001b[0m\n\u001b[0;32m--> 981\u001b[0;31m             \u001b[0;32mreturn\u001b[0m \u001b[0mself\u001b[0m\u001b[0;34m.\u001b[0m\u001b[0m_get_value\u001b[0m\u001b[0;34m(\u001b[0m\u001b[0mkey\u001b[0m\u001b[0;34m)\u001b[0m\u001b[0;34m\u001b[0m\u001b[0;34m\u001b[0m\u001b[0m\n\u001b[0m\u001b[1;32m    982\u001b[0m \u001b[0;34m\u001b[0m\u001b[0m\n\u001b[1;32m    983\u001b[0m         \u001b[0;32mif\u001b[0m \u001b[0mis_hashable\u001b[0m\u001b[0;34m(\u001b[0m\u001b[0mkey\u001b[0m\u001b[0;34m)\u001b[0m\u001b[0;34m:\u001b[0m\u001b[0;34m\u001b[0m\u001b[0;34m\u001b[0m\u001b[0m\n",
            "\u001b[0;32m/usr/local/lib/python3.10/dist-packages/pandas/core/series.py\u001b[0m in \u001b[0;36m_get_value\u001b[0;34m(self, label, takeable)\u001b[0m\n\u001b[1;32m   1087\u001b[0m \u001b[0;34m\u001b[0m\u001b[0m\n\u001b[1;32m   1088\u001b[0m         \u001b[0;31m# Similar to Index.get_value, but we do not fall back to positional\u001b[0m\u001b[0;34m\u001b[0m\u001b[0;34m\u001b[0m\u001b[0m\n\u001b[0;32m-> 1089\u001b[0;31m         \u001b[0mloc\u001b[0m \u001b[0;34m=\u001b[0m \u001b[0mself\u001b[0m\u001b[0;34m.\u001b[0m\u001b[0mindex\u001b[0m\u001b[0;34m.\u001b[0m\u001b[0mget_loc\u001b[0m\u001b[0;34m(\u001b[0m\u001b[0mlabel\u001b[0m\u001b[0;34m)\u001b[0m\u001b[0;34m\u001b[0m\u001b[0;34m\u001b[0m\u001b[0m\n\u001b[0m\u001b[1;32m   1090\u001b[0m         \u001b[0;32mreturn\u001b[0m \u001b[0mself\u001b[0m\u001b[0;34m.\u001b[0m\u001b[0mindex\u001b[0m\u001b[0;34m.\u001b[0m\u001b[0m_get_values_for_loc\u001b[0m\u001b[0;34m(\u001b[0m\u001b[0mself\u001b[0m\u001b[0;34m,\u001b[0m \u001b[0mloc\u001b[0m\u001b[0;34m,\u001b[0m \u001b[0mlabel\u001b[0m\u001b[0;34m)\u001b[0m\u001b[0;34m\u001b[0m\u001b[0;34m\u001b[0m\u001b[0m\n\u001b[1;32m   1091\u001b[0m \u001b[0;34m\u001b[0m\u001b[0m\n",
            "\u001b[0;32m/usr/local/lib/python3.10/dist-packages/pandas/core/indexes/base.py\u001b[0m in \u001b[0;36mget_loc\u001b[0;34m(self, key, method, tolerance)\u001b[0m\n\u001b[1;32m   3802\u001b[0m                 \u001b[0;32mreturn\u001b[0m \u001b[0mself\u001b[0m\u001b[0;34m.\u001b[0m\u001b[0m_engine\u001b[0m\u001b[0;34m.\u001b[0m\u001b[0mget_loc\u001b[0m\u001b[0;34m(\u001b[0m\u001b[0mcasted_key\u001b[0m\u001b[0;34m)\u001b[0m\u001b[0;34m\u001b[0m\u001b[0;34m\u001b[0m\u001b[0m\n\u001b[1;32m   3803\u001b[0m             \u001b[0;32mexcept\u001b[0m \u001b[0mKeyError\u001b[0m \u001b[0;32mas\u001b[0m \u001b[0merr\u001b[0m\u001b[0;34m:\u001b[0m\u001b[0;34m\u001b[0m\u001b[0;34m\u001b[0m\u001b[0m\n\u001b[0;32m-> 3804\u001b[0;31m                 \u001b[0;32mraise\u001b[0m \u001b[0mKeyError\u001b[0m\u001b[0;34m(\u001b[0m\u001b[0mkey\u001b[0m\u001b[0;34m)\u001b[0m \u001b[0;32mfrom\u001b[0m \u001b[0merr\u001b[0m\u001b[0;34m\u001b[0m\u001b[0;34m\u001b[0m\u001b[0m\n\u001b[0m\u001b[1;32m   3805\u001b[0m             \u001b[0;32mexcept\u001b[0m \u001b[0mTypeError\u001b[0m\u001b[0;34m:\u001b[0m\u001b[0;34m\u001b[0m\u001b[0;34m\u001b[0m\u001b[0m\n\u001b[1;32m   3806\u001b[0m                 \u001b[0;31m# If we have a listlike key, _check_indexing_error will raise\u001b[0m\u001b[0;34m\u001b[0m\u001b[0;34m\u001b[0m\u001b[0m\n",
            "\u001b[0;31mKeyError\u001b[0m: 0"
          ]
        },
        {
          "output_type": "display_data",
          "data": {
            "text/plain": [
              "<Figure size 2000x500 with 1 Axes>"
            ],
            "image/png": "[encoded data removed]"
          },
          "metadata": {}
        }
      ]
    },
    {
      "cell_type": "code",
      "source": [],
      "metadata": {
        "id": "wvsiFNDFlM3S"
      },
      "execution_count": null,
      "outputs": []
    },
    {
      "cell_type": "code",
      "source": [],
      "metadata": {
        "id": "RAdDJnNclM6R"
      },
      "execution_count": null,
      "outputs": []
    }
  ]
}
{
  "nbformat": 4,
  "nbformat_minor": 0,
  "metadata": {
    "colab": {
      "provenance": [],
      "authorship_tag": "ABX9TyPglICE4PqWZFWjoHGKsoy1",
      "include_colab_link": true
    },
    "kernelspec": {
      "name": "python3",
      "display_name": "Python 3"
    },
    "language_info": {
      "name": "python"
    }
  },
  "cells": [
    {
      "cell_type": "markdown",
      "metadata": {
        "id": "view-in-github",
        "colab_type": "text"
      },
      "source": [
        "<a href=\"https://colab.research.google.com/github/OlhaDot/NewProjectStadyAcademy/blob/master/lesson_29.ipynb\" target=\"_parent\"><img src=\"https://colab.research.google.com/assets/colab-badge.svg\" alt=\"Open In Colab\"/></a>"
      ]
    },
    {
      "cell_type": "code",
      "execution_count": 1,
      "metadata": {
        "colab": {
          "base_uri": "https://localhost:8080/"
        },
        "id": "pbpMQRMqscDi",
        "outputId": "75ea6902-a837-493c-f455-9b05aec897f8"
      },
      "outputs": [
        {
          "output_type": "stream",
          "name": "stdout",
          "text": [
            "no reason to denied H0  about normal distribution\n"
          ]
        }
      ],
      "source": [
        "# task 1 - pirson\n",
        "import numpy as np\n",
        "import scipy.stats as stats\n",
        "\n",
        "n = 50\n",
        "confidence = 0.01\n",
        "\n",
        "x_i = np.array([0, 24, 48, 72, 96, 120, 144, 168, 192])\n",
        "x_i_1 = np.array([24, 48, 72, 96, 120, 144, 168, 192, 216])\n",
        "\n",
        "observations = np.array([1, 2, 4, 6, 12, 16, 6, 2, 1])\n",
        "\n",
        "# H0 - normal distribution with H1- not normal\n",
        "# Discrete stat distribution- avg of given one\n",
        "intervals = (x_i_1+x_i)/2\n",
        "\n",
        "x_avg = sum(intervals*observations)/n\n",
        "\n",
        "D = sum(intervals**2*observations)/n - x_avg**2\n",
        "sigma = np.sqrt(D)\n",
        "\n",
        "# Обчислення теоретичних частот\n",
        "z_i = (x_i-x_avg)/sigma\n",
        "z_i_1 = (x_i_1-x_avg)/sigma\n",
        "\n",
        "if z_i.any() < 0:\n",
        "    f_z = -stats.norm.cdf(np.abs(z_i)) - 0.5\n",
        "else:\n",
        "    f_z = stats.norm.cdf(z_i) - 0.5\n",
        "\n",
        "if z_i_1.any() < 0:\n",
        "    f_z_1 = -stats.norm.cdf(np.abs(z_i_1)) - 0.5\n",
        "else:\n",
        "    f_z_1 = stats.norm.cdf(z_i_1) - 0.5\n",
        "\n",
        "n_new = (f_z_1-f_z)*n\n",
        "n_new_adj = np.around(n_new,0)\n",
        "\n",
        "# Обчислення спостережуваного значення статистичного критерію x obs\n",
        "diff_ns = np.divide((observations -n_new_adj)**2, n_new_adj,  where=n_new_adj!=0)\n",
        "\n",
        "x2_pirson = sum(diff_ns)\n",
        "k = np.size(observations)-2-1\n",
        "\n",
        "critical_value = stats.chi2.ppf(1 - confidence, k)\n",
        "\n",
        "if x2_pirson > critical_value:\n",
        "    print(\"no reason to accept H0  about normal distribution\")\n",
        "else:\n",
        "    print(\"no reason to denied H0  about normal distribution\")"
      ]
    },
    {
      "cell_type": "code",
      "source": [
        "# task 2 - uniform distribution law\n",
        "M_X= 2\n",
        "# M_X =(a+b)/2 => a = 2*M_X-b =>\n",
        "# a =\n",
        "# b= 4-a\n",
        "\n",
        "P_X_more_or3 = 0.4\n",
        "P_X_less_3 = 1-P_X_more_or3\n",
        "# max length = 3, min = 0 than formula (max-min)/(b-a) = (3-0)/(b-0) = P_X_less_3\n",
        "max = 3\n",
        "min = 0\n",
        "\n",
        "a = 0\n",
        "\n",
        "\n",
        "b = max/ P_X_less_3\n",
        "if 4-b <0:\n",
        "    a = 0\n",
        "else:\n",
        "    a = 4-b\n",
        "\n",
        "# uniform distr f_x = 1/(a+b)\n",
        "def density(x):\n",
        "    if x >= a and x <= b:\n",
        "        print(\"density is\", 1 / (b - a))\n",
        "    else:\n",
        "        print(0)\n",
        "\n",
        "density(2)"
      ],
      "metadata": {
        "colab": {
          "base_uri": "https://localhost:8080/"
        },
        "id": "27WN5xY2snBI",
        "outputId": "82aece1c-e84f-4a10-eea1-d2612dfa2206"
      },
      "execution_count": 3,
      "outputs": [
        {
          "output_type": "stream",
          "name": "stdout",
          "text": [
            "density is 0.2\n"
          ]
        }
      ]
    }
  ]
}
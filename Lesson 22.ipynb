{
 "cells": [
  {
   "cell_type": "code",
   "execution_count": 1,
   "id": "302e7526",
   "metadata": {},
   "outputs": [
    {
     "name": "stdout",
     "output_type": "stream",
     "text": [
      "number of students with excellent grade =  32\n"
     ]
    }
   ],
   "source": [
    "# lesson 22 - task 1 \n",
    "M = 15\n",
    "F = 16\n",
    "Ph = 19\n",
    "\n",
    "M_F = 7\n",
    "M_Ph = 9\n",
    "F_Ph = 6\n",
    "M_F_Ph = 4\n",
    "\n",
    "# MUFUPh=M+F+Ph - M∩F -M∩Ph – F∩Ph + M∩F∩Ph\n",
    "MUFUPh = M+F+Ph - M_F - M_Ph - F_Ph + M_F_Ph\n",
    "print(\"number of students with excellent grade = \", MUFUPh)"
   ]
  },
  {
   "cell_type": "code",
   "execution_count": 2,
   "id": "d67a252b",
   "metadata": {},
   "outputs": [
    {
     "name": "stdout",
     "output_type": "stream",
     "text": [
      "days with good weather =  15\n"
     ]
    }
   ],
   "source": [
    "# lesson 22 - task 2\n",
    "S = 30\n",
    "\n",
    "R = 12\n",
    "W = 8\n",
    "C = 4\n",
    "\n",
    "R_W = 5\n",
    "R_C = 3\n",
    "W_C = 2\n",
    "R_W_C = 1\n",
    "\n",
    "# RUWUC= R+W+C - R∩W - R∩C - W∩C + R∩W∩C\n",
    "RUWUC= R+W+C - R_W - R_C - W_C + R_W_C\n",
    "print(\"days with good weather = \", S-RUWUC)\n"
   ]
  },
  {
   "cell_type": "code",
   "execution_count": null,
   "id": "44ac3f09",
   "metadata": {},
   "outputs": [],
   "source": []
  }
 ],
 "metadata": {
  "kernelspec": {
   "display_name": "Python 3 (ipykernel)",
   "language": "python",
   "name": "python3"
  },
  "language_info": {
   "codemirror_mode": {
    "name": "ipython",
    "version": 3
   },
   "file_extension": ".py",
   "mimetype": "text/x-python",
   "name": "python",
   "nbconvert_exporter": "python",
   "pygments_lexer": "ipython3",
   "version": "3.9.13"
  }
 },
 "nbformat": 4,
 "nbformat_minor": 5
}

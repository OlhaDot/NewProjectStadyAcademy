{
 "cells": [
  {
   "cell_type": "markdown",
   "id": "65d0c7dd",
   "metadata": {},
   "source": [
    "### Task1"
   ]
  },
  {
   "cell_type": "markdown",
   "id": "fbeb509f",
   "metadata": {},
   "source": [
    "| year | rank | company | revenue | profit |\n",
    "|  --- | ---  | ---     | ---     | ---    |\n",
    "| 1955 | 229 | Norton | 135.0 | N.A. |\n",
    "| 1955 | 291 | Schlits Brewing | 100.0 | N.A. |\n",
    "| 1955 | 295 | Pacific Vegitable Oil | 97.9 | N.A. |\n",
    "| 1955 | 297 | Liebmann Breweries | 96.0 | N.A. |\n",
    "| 1955 | 353 | Mineapolis Moline | 77.4 | N.A. |"
   ]
  },
  {
   "cell_type": "markdown",
   "id": "54df0069",
   "metadata": {},
   "source": [
    "### Task2"
   ]
  },
  {
   "cell_type": "code",
   "execution_count": 61,
   "id": "d5c4f6a7",
   "metadata": {},
   "outputs": [],
   "source": [
    "import random\n",
    "\n",
    "random.seed(1)\n",
    "\n",
    "int_list = []\n",
    "float_list = []\n",
    "str_list = []\n",
    "\n",
    "\n",
    "for i in range(0, 5000):\n",
    "    int_list.append(random.randint(0, 1000))\n",
    "    float_list.append(random.uniform(0.1, 100.0))\n",
    "\n",
    "# print(\"Int List:\", int_list)\n",
    "# print(\"Float List:\", float_list)"
   ]
  },
  {
   "cell_type": "code",
   "execution_count": 62,
   "id": "0fee8cdc",
   "metadata": {},
   "outputs": [
    {
     "name": "stdout",
     "output_type": "stream",
     "text": [
      "646 ms ± 0 ns per loop (mean ± std. dev. of 1 run, 7 loops each)\n"
     ]
    }
   ],
   "source": [
    "%%timeit -n 7 -r 1\n",
    "def bubble_sort(my_list):\n",
    "    length = len(my_list)\n",
    "    for iIndex in range(length):\n",
    "        swapped = False\n",
    "        for jIndex in range(0, length - iIndex - 1):\n",
    "            if my_list[jIndex] > my_list[jIndex + 1]:\n",
    "                my_list[jIndex], my_list[jIndex + 1] = my_list[jIndex + 1], my_list[jIndex]\n",
    "                swapped = True\n",
    "        if not swapped:\n",
    "            break\n",
    "#     print(\"Bubble Sort: \", my_list)\n",
    "\n",
    "\n",
    "bubble_sort(int_list)"
   ]
  },
  {
   "cell_type": "code",
   "execution_count": null,
   "id": "e070bdbe",
   "metadata": {},
   "outputs": [],
   "source": []
  }
 ],
 "metadata": {
  "kernelspec": {
   "display_name": "Python 3 (ipykernel)",
   "language": "python",
   "name": "python3"
  },
  "language_info": {
   "codemirror_mode": {
    "name": "ipython",
    "version": 3
   },
   "file_extension": ".py",
   "mimetype": "text/x-python",
   "name": "python",
   "nbconvert_exporter": "python",
   "pygments_lexer": "ipython3",
   "version": "3.9.13"
  }
 },
 "nbformat": 4,
 "nbformat_minor": 5
}

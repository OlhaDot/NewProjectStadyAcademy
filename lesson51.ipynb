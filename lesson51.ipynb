{
 "cells": [
  {
   "cell_type": "code",
   "execution_count": 42,
   "metadata": {},
   "outputs": [],
   "source": [
    "import math\n"
   ]
  },
  {
   "cell_type": "code",
   "execution_count": 43,
   "metadata": {},
   "outputs": [],
   "source": [
    "items_first_factory = 8000\n",
    "items_second_factory = 5000\n",
    "\n",
    "weight_first_factory = 13\n",
    "dist_first_factory = 0.5\n",
    "\n",
    "weight_second_factory = 12\n",
    "dist_second_factory = 0.7\n",
    "\n",
    "share_good_item_first_factory = 0.85\n",
    "share_good_item_second_factory = 0.8"
   ]
  },
  {
   "cell_type": "code",
   "execution_count": 44,
   "metadata": {},
   "outputs": [],
   "source": [
    "def calc_probability(x, mean, std_dev):\n",
    "    exponent = math.exp(-((x - mean) ** 2) / (2 * std_dev ** 2))\n",
    "    return (1 / (std_dev * math.sqrt(2 * math.pi))) * exponent"
   ]
  },
  {
   "cell_type": "code",
   "execution_count": 45,
   "metadata": {},
   "outputs": [],
   "source": [
    "def em_algorithm(observed_data, num_iterations):\n",
    "    p_first_factory = 0.5\n",
    "    p_second_factory = 0.5\n",
    "    \n",
    "    for i in range(num_iterations):\n",
    "        # E-крок\n",
    "        p_first_factory_sum = 0\n",
    "        p_second_factory_sum = 0\n",
    "        \n",
    "        for data in observed_data:\n",
    "            x = data[0]\n",
    "            quality = data[1]\n",
    "            \n",
    "            p_first = p_first_factory * calc_probability(x, weight_first_factory, dist_first_factory)\n",
    "            p_second = p_second_factory * calc_probability(x, weight_second_factory, dist_second_factory)\n",
    "            \n",
    "            p_first *= quality\n",
    "            p_second *= quality\n",
    "            \n",
    "            total_prob = p_first + p_second\n",
    "            \n",
    "            p_first /= total_prob\n",
    "            p_second /= total_prob\n",
    "            \n",
    "            p_first_factory_sum += p_first\n",
    "            p_second_factory_sum += p_second\n",
    "        \n",
    "        # M-крок\n",
    "        p_first_factory = p_first_factory_sum / len(observed_data)\n",
    "        p_second_factory = p_second_factory_sum / len(observed_data)\n",
    "    \n",
    "    return p_first_factory, p_second_factory"
   ]
  },
  {
   "cell_type": "code",
   "execution_count": 46,
   "metadata": {},
   "outputs": [
    {
     "name": "stdout",
     "output_type": "stream",
     "text": [
      "probability that an item was produced in the first_factory 44.4 %\n",
      "probability that an item was produced in the second_factory 55.6 %\n"
     ]
    }
   ],
   "source": [
    "observed_data = [(weight_first_factory, share_good_item_first_factory), (weight_second_factory, share_good_item_second_factory)] * (items_first_factory+items_second_factory)\n",
    "\n",
    "p_first_factory, p_second_factory = em_algorithm(observed_data, num_iterations=10)\n",
    "\n",
    "print(\"probability that an item was produced in the first_factory\", round(p_first_factory*100,1),'%')\n",
    "print(\"probability that an item was produced in the second_factory\", round(p_second_factory*100,1),'%')\n"
   ]
  }
 ],
 "metadata": {
  "kernelspec": {
   "display_name": "Python 3",
   "language": "python",
   "name": "python3"
  },
  "language_info": {
   "codemirror_mode": {
    "name": "ipython",
    "version": 3
   },
   "file_extension": ".py",
   "mimetype": "text/x-python",
   "name": "python",
   "nbconvert_exporter": "python",
   "pygments_lexer": "ipython3",
   "version": "3.10.4"
  },
  "orig_nbformat": 4
 },
 "nbformat": 4,
 "nbformat_minor": 2
}

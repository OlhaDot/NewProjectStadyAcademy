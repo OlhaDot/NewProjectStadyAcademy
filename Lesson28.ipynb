{
  "nbformat": 4,
  "nbformat_minor": 0,
  "metadata": {
    "colab": {
      "provenance": [],
      "authorship_tag": "ABX9TyPEW7cTuPEBbtiRtKl3oyxV",
      "include_colab_link": true
    },
    "kernelspec": {
      "name": "python3",
      "display_name": "Python 3"
    },
    "language_info": {
      "name": "python"
    }
  },
  "cells": [
    {
      "cell_type": "markdown",
      "metadata": {
        "id": "view-in-github",
        "colab_type": "text"
      },
      "source": [
        "<a href=\"https://colab.research.google.com/github/OlhaDot/NewProjectStadyAcademy/blob/master/Lesson28.ipynb\" target=\"_parent\"><img src=\"https://colab.research.google.com/assets/colab-badge.svg\" alt=\"Open In Colab\"/></a>"
      ]
    },
    {
      "cell_type": "code",
      "execution_count": 1,
      "metadata": {
        "id": "tGWOmntEma4e"
      },
      "outputs": [],
      "source": [
        "# 1 task - confidence interval for sigma\n",
        "import numpy as np\n",
        "import scipy.stats as st"
      ]
    },
    {
      "cell_type": "code",
      "source": [
        "# define sample data\n",
        "c = 0.95\n",
        "x = [1,\t2,\t4,\t6,\t7]\n",
        "n = [2,\t3,\t10,\t3,\t2]\n",
        "table = [x[i] for i in range(len(x)) for j in range(n[i])]\n"
      ],
      "metadata": {
        "id": "GrHl2hgOmh16"
      },
      "execution_count": 2,
      "outputs": []
    },
    {
      "cell_type": "code",
      "source": [
        "# create 95% confidence interval (<30)\n",
        "print('confidence interval for sigma: ', st.t.interval(confidence = c, df=len(table) - 1,\n",
        "              loc=np.mean(table),\n",
        "              scale=st.sem(table))\n",
        "      )\n"
      ],
      "metadata": {
        "colab": {
          "base_uri": "https://localhost:8080/"
        },
        "id": "wsKYd3NCmjfF",
        "outputId": "9ada4064-ab6d-4e1d-b8aa-4a03951f91db"
      },
      "execution_count": 3,
      "outputs": [
        {
          "output_type": "stream",
          "name": "stdout",
          "text": [
            "confidence interval for sigma:  (3.1683165747462367, 4.831683425253763)\n"
          ]
        }
      ]
    },
    {
      "cell_type": "code",
      "source": [
        "# task 2 - probability of event A\n",
        "from scipy.stats import norm\n",
        "from math import sqrt"
      ],
      "metadata": {
        "id": "JxBr6CdLmlhN"
      },
      "execution_count": 4,
      "outputs": []
    },
    {
      "cell_type": "code",
      "source": [
        "c = 0.95\n",
        "n = 100\n",
        "m = 40"
      ],
      "metadata": {
        "id": "v1IAmnyBmndN"
      },
      "execution_count": 5,
      "outputs": []
    },
    {
      "cell_type": "code",
      "source": [
        "t = norm.ppf(1 - (1-c)/2)\n",
        "p_1 = (1/(t**2+n))*(m+(t**2/2)-t*sqrt(m*(n-m)/n+t**2/4))\n",
        "p_2 = (1/(t**2+n))*(m+(t**2/2)+t*sqrt(m*(n-m)/n+t**2/4))\n",
        "\n",
        "print('probability of event A is in range:', round(p_1,2), '-', round(p_2, 2))"
      ],
      "metadata": {
        "colab": {
          "base_uri": "https://localhost:8080/"
        },
        "id": "aTDMGVpamp8t",
        "outputId": "2f5f609a-1143-4b20-f4f8-12533752c85d"
      },
      "execution_count": 6,
      "outputs": [
        {
          "output_type": "stream",
          "name": "stdout",
          "text": [
            "probability of event A is in range: 0.31 - 0.5\n"
          ]
        }
      ]
    },
    {
      "cell_type": "code",
      "source": [
        "# task 3 - min selection\n",
        "c = 0.99\n",
        "s = 0.6\n",
        "sigma = 3"
      ],
      "metadata": {
        "id": "7VPyM6tjmr_W"
      },
      "execution_count": 7,
      "outputs": []
    },
    {
      "cell_type": "code",
      "source": [
        "t = norm.ppf(1 - (1-c)/2)\n",
        "n = t**2*sigma**2/s**2\n",
        "print('min selection = ', round(n,0))"
      ],
      "metadata": {
        "colab": {
          "base_uri": "https://localhost:8080/"
        },
        "id": "W-zz2vK7mugW",
        "outputId": "e7e2201c-f6ed-493d-8d57-10213a32de36"
      },
      "execution_count": 8,
      "outputs": [
        {
          "output_type": "stream",
          "name": "stdout",
          "text": [
            "min selection =  166.0\n"
          ]
        }
      ]
    }
  ]
}
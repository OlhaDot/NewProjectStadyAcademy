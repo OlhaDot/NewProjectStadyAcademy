{
  "nbformat": 4,
  "nbformat_minor": 0,
  "metadata": {
    "colab": {
      "provenance": [],
      "authorship_tag": "ABX9TyOPM8ZQQgQCS36YtLcesW/1",
      "include_colab_link": true
    },
    "kernelspec": {
      "name": "python3",
      "display_name": "Python 3"
    },
    "language_info": {
      "name": "python"
    }
  },
  "cells": [
    {
      "cell_type": "markdown",
      "metadata": {
        "id": "view-in-github",
        "colab_type": "text"
      },
      "source": [
        "<a href=\"https://colab.research.google.com/github/OlhaDot/NewProjectStadyAcademy/blob/master/lesson32.ipynb\" target=\"_parent\"><img src=\"https://colab.research.google.com/assets/colab-badge.svg\" alt=\"Open In Colab\"/></a>"
      ]
    },
    {
      "cell_type": "code",
      "execution_count": 1,
      "metadata": {
        "colab": {
          "base_uri": "https://localhost:8080/"
        },
        "id": "KI6PcNKFwZqc",
        "outputId": "45ce0bfd-f7b0-4978-fa66-141c67340844"
      },
      "outputs": [
        {
          "output_type": "stream",
          "name": "stdout",
          "text": [
            "          name  mean_grade  curr_exam_grade  attempts\n",
            "0    Student 1          69               92         2\n",
            "1    Student 2          96               56         2\n",
            "2    Student 3          75               99         1\n",
            "3    Student 4          60               69         2\n",
            "4    Student 5          88               88         1\n",
            "5    Student 6          85               78         1\n",
            "6    Student 7          89               53         1\n",
            "7    Student 8          89               81         1\n",
            "8    Student 9          68               59         2\n",
            "9   Student 10          69               94         1\n",
            "10  Student 11          60               96         2\n",
            "11  Student 12         100               99         2\n",
            "12  Student 13          96               58         2\n",
            "13  Student 14          76               50         1\n",
            "14  Student 15          96               58         2\n"
          ]
        }
      ],
      "source": [
        "# task1 DF 5*15\n",
        "import pandas as pd\n",
        "import numpy as np\n",
        "\n",
        "num_stud = 15\n",
        "np.random.seed(10)\n",
        "\n",
        "names = [\"Student \" + str(i) for i in range(1, num_stud+1)]\n",
        "mean_grade = np.random.randint(60, 101, num_stud)\n",
        "current_grade = np.random.randint(45, 101, num_stud)\n",
        "attempts = np.random.randint(1, 3, num_stud)\n",
        "\n",
        "df = pd.DataFrame({'name': names,\n",
        "                   'mean_grade': mean_grade,\n",
        "                   'curr_exam_grade': current_grade,\n",
        "                   'attempts': attempts})\n",
        "\n",
        "print(df)\n"
      ]
    },
    {
      "cell_type": "code",
      "source": [
        "# 2 add column\n",
        "min_grade_for_admission = 85\n",
        "\n",
        "df['admission_next_course'] = df['mean_grade'] >= min_grade_for_admission\n",
        "print(df)\n"
      ],
      "metadata": {
        "colab": {
          "base_uri": "https://localhost:8080/"
        },
        "id": "Zrpe1gsPwdrw",
        "outputId": "4acd1c37-a51e-42f5-f652-4abe4881ef13"
      },
      "execution_count": 2,
      "outputs": [
        {
          "output_type": "stream",
          "name": "stdout",
          "text": [
            "          name  mean_grade  curr_exam_grade  attempts  admission_next_course\n",
            "0    Student 1          69               92         2                  False\n",
            "1    Student 2          96               56         2                   True\n",
            "2    Student 3          75               99         1                  False\n",
            "3    Student 4          60               69         2                  False\n",
            "4    Student 5          88               88         1                   True\n",
            "5    Student 6          85               78         1                   True\n",
            "6    Student 7          89               53         1                   True\n",
            "7    Student 8          89               81         1                   True\n",
            "8    Student 9          68               59         2                  False\n",
            "9   Student 10          69               94         1                  False\n",
            "10  Student 11          60               96         2                  False\n",
            "11  Student 12         100               99         2                   True\n",
            "12  Student 13          96               58         2                   True\n",
            "13  Student 14          76               50         1                  False\n",
            "14  Student 15          96               58         2                   True\n"
          ]
        }
      ]
    },
    {
      "cell_type": "code",
      "source": [
        "# 3 agg\n",
        "print(df['mean_grade'].agg(['min', 'max', 'mean', 'median']))"
      ],
      "metadata": {
        "colab": {
          "base_uri": "https://localhost:8080/"
        },
        "id": "QM8gJqKfwv0u",
        "outputId": "6bf0120a-c38e-4101-8237-0c9c37bdcedd"
      },
      "execution_count": 3,
      "outputs": [
        {
          "output_type": "stream",
          "name": "stdout",
          "text": [
            "min        60.000000\n",
            "max       100.000000\n",
            "mean       81.066667\n",
            "median     85.000000\n",
            "Name: mean_grade, dtype: float64\n"
          ]
        }
      ]
    },
    {
      "cell_type": "code",
      "source": [
        "# 4 num of stud have passed current exam from 1st try\n",
        "passed_1st_try = df[df['attempts'] == 1]\n",
        "print('num of stud have passed current exam from 1st try:', len(passed_1st_try))\n"
      ],
      "metadata": {
        "colab": {
          "base_uri": "https://localhost:8080/"
        },
        "id": "3K9kPUMLwykF",
        "outputId": "5fd4c3f9-f2cb-4a70-e183-311ce8cde68b"
      },
      "execution_count": 4,
      "outputs": [
        {
          "output_type": "stream",
          "name": "stdout",
          "text": [
            "num of stud have passed current exam from 1st try: 7\n"
          ]
        }
      ]
    },
    {
      "cell_type": "code",
      "source": [
        "# 5 series\n",
        "student_names_serie = pd.Series(df['name'])  # можна просто df['name']\n",
        "print(student_names_serie)"
      ],
      "metadata": {
        "colab": {
          "base_uri": "https://localhost:8080/"
        },
        "id": "ZSQW6FUUw61G",
        "outputId": "c968c63a-5055-4045-e4c3-1d440f80b7f0"
      },
      "execution_count": 5,
      "outputs": [
        {
          "output_type": "stream",
          "name": "stdout",
          "text": [
            "0      Student 1\n",
            "1      Student 2\n",
            "2      Student 3\n",
            "3      Student 4\n",
            "4      Student 5\n",
            "5      Student 6\n",
            "6      Student 7\n",
            "7      Student 8\n",
            "8      Student 9\n",
            "9     Student 10\n",
            "10    Student 11\n",
            "11    Student 12\n",
            "12    Student 13\n",
            "13    Student 14\n",
            "14    Student 15\n",
            "Name: name, dtype: object\n"
          ]
        }
      ]
    }
  ]
}
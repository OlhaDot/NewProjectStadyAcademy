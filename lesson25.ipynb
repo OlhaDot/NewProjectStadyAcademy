{
  "nbformat": 4,
  "nbformat_minor": 0,
  "metadata": {
    "colab": {
      "provenance": [],
      "authorship_tag": "ABX9TyOzQ1yn2u1XtuAbIA8eF5g3",
      "include_colab_link": true
    },
    "kernelspec": {
      "name": "python3",
      "display_name": "Python 3"
    },
    "language_info": {
      "name": "python"
    }
  },
  "cells": [
    {
      "cell_type": "markdown",
      "metadata": {
        "id": "view-in-github",
        "colab_type": "text"
      },
      "source": [
        "<a href=\"https://colab.research.google.com/github/OlhaDot/NewProjectStadyAcademy/blob/master/lesson25.ipynb\" target=\"_parent\"><img src=\"https://colab.research.google.com/assets/colab-badge.svg\" alt=\"Open In Colab\"/></a>"
      ]
    },
    {
      "cell_type": "markdown",
      "source": [],
      "metadata": {
        "id": "zkVW_VImBmR5"
      }
    },
    {
      "cell_type": "markdown",
      "source": [],
      "metadata": {
        "id": "v6ctEjv7CTR_"
      }
    },
    {
      "cell_type": "markdown",
      "source": [
        "**task 1 - about details**"
      ],
      "metadata": {
        "id": "_nkpE1KEBiy5"
      }
    },
    {
      "cell_type": "code",
      "execution_count": null,
      "metadata": {
        "colab": {
          "base_uri": "https://localhost:8080/"
        },
        "id": "IObxI1cKAWPA",
        "outputId": "ef32ed64-59a2-4197-d5a2-6dc86ecd86eb"
      },
      "outputs": [
        {
          "output_type": "stream",
          "name": "stdout",
          "text": [
            "X distribution for 0 defective details:  0.22\n",
            "X distribution for 1 defective details:  0.43\n",
            "X distribution for 2 defective details:  0.29\n",
            "X distribution for 3 defective details:  0.06\n",
            "\n",
            "Y distribution for 0 standard details:  0.06\n",
            "Y distribution for 1 standard details:  0.29\n",
            "Y distribution for 2 standard details:  0.43\n",
            "Y distribution for 3 standard details:  0.22\n"
          ]
        }
      ],
      "source": [
        "# 1task - details\n",
        "from math import comb\n",
        "\n",
        "p_stand = 0.6\n",
        "p_def = 1-p_stand\n",
        "n = 3\n",
        "\n",
        "# X distribution\n",
        "for k in range(n + 1):\n",
        "    distr_x = comb(n, k) * p_def ** k * p_stand ** (n - k)\n",
        "    print(\"X distribution for {} defective details: \".format(k), round(distr_x,2) )\n",
        "print()\n",
        "# Y distribution\n",
        "for k in range(n + 1):\n",
        "    distr_y = comb(n, k) * p_stand ** k * p_def ** (n - k)\n",
        "    print(\"Y distribution for {} standard details: \".format(k), round(distr_y,2) )"
      ]
    },
    {
      "cell_type": "code",
      "source": [],
      "metadata": {
        "id": "kssG9HhYB44g"
      },
      "execution_count": null,
      "outputs": []
    },
    {
      "cell_type": "code",
      "source": [
        "# r(xy)   r_xy = cov_XY/sigma_x*sigma_y,  cov_XY = E_XY - E_X * E_Y\n",
        "# cov_XY\n",
        "M_X = sum(k * comb(n, k) * p_def ** k * p_stand ** (n - k)for k in range(n + 1))\n",
        "M_Y = sum(k * comb(n, k) * p_stand ** k * p_def ** (n - k) for k in range(n + 1))\n",
        "M_XY = sum(k * j * comb(n, k) * p_def ** k * p_stand ** (n - k)\\\n",
        "           * comb(n, j) * p_stand ** j * p_def ** (n - j) for k in range(n + 1) for j in range(n + 1))\n",
        "cov_XY = M_XY-M_X*M_Y"
      ],
      "metadata": {
        "id": "v212lcF-AgTU"
      },
      "execution_count": null,
      "outputs": []
    },
    {
      "cell_type": "code",
      "source": [
        "# sigma_x\n",
        "var_x = sum((k - M_X) ** 2 * comb(n, k) * p_def ** k * p_stand ** (n - k) for k in range(n + 1))\n",
        "sigma_x = var_x ** 0.5\n",
        "\n",
        "# sigma_y\n",
        "var_y = sum((k - M_Y) ** 2 * comb(n, k) * p_stand ** k * p_def ** (n - k) for k in range(n + 1))\n",
        "sigma_y = var_y ** 0.5"
      ],
      "metadata": {
        "id": "p_wQbjalAlul"
      },
      "execution_count": null,
      "outputs": []
    },
    {
      "cell_type": "code",
      "source": [
        "# r_xy\n",
        "r_xy  = cov_XY / (sigma_x * sigma_y)\n",
        "print('Coef correlation',round(r_xy,2))"
      ],
      "metadata": {
        "colab": {
          "base_uri": "https://localhost:8080/"
        },
        "id": "Wz6j9dJrAnyG",
        "outputId": "f45eb241-eb16-4fcc-91b3-6dfd5df0afca"
      },
      "execution_count": null,
      "outputs": [
        {
          "output_type": "stream",
          "name": "stdout",
          "text": [
            "Coef correlation -0.0\n"
          ]
        }
      ]
    },
    {
      "cell_type": "markdown",
      "source": [
        "**task 2**"
      ],
      "metadata": {
        "id": "RKcurbwxCHBr"
      }
    },
    {
      "cell_type": "code",
      "source": [
        "import numpy as np\n",
        "\n",
        "# Введемо дані таблиці\n",
        "p_y = np.array([0.1, 0.3, 0.2, 0.3, 0.1])\n",
        "p_x = np.array([0.1, 0.3, 0.2, 0.3, 0.1])\n",
        "x_values = np.array([10, 5, 2, 1, -5])\n",
        "y_values = np.array([20, 10, 2, -2, -8])\n",
        "\n",
        "probabilities = np.array([[0.01, 0.03, 0.02, 0.03, 0.01],\n",
        "                          [0.03, 0.09, 0.06, 0.09, 0.03],\n",
        "                          [0.02, 0.06, 0.04, 0.06, 0.02],\n",
        "                          [0.03, 0.09, 0.06, 0.09, 0.03],\n",
        "                          [0.01, 0.03, 0.02, 0.03, 0.01]])\n"
      ],
      "metadata": {
        "id": "EmmainYQCN_R"
      },
      "execution_count": null,
      "outputs": []
    },
    {
      "cell_type": "code",
      "source": [
        "expected_norm_x = np.dot(p_x, x_values)\n",
        "expected_norm_y = np.dot(p_y, y_values)\n",
        "\n",
        "print(\"Expected norm for X: {:.2f}\".format(expected_norm_x))\n",
        "print(\"Expected norm for Y: {:.2f}\".format(expected_norm_y))"
      ],
      "metadata": {
        "colab": {
          "base_uri": "https://localhost:8080/"
        },
        "id": "lKU4b6_c9Dy-",
        "outputId": "9a76d5a1-88f0-435d-a1a4-a9b10cc3326b"
      },
      "execution_count": null,
      "outputs": [
        {
          "output_type": "stream",
          "name": "stdout",
          "text": [
            "Expected norm for X: 2.70\n",
            "Expected norm for Y: 4.00\n"
          ]
        }
      ]
    },
    {
      "cell_type": "code",
      "source": [
        "variance_x = np.dot(p_x, (x_values - expected_norm_x)**2)\n",
        "st_dev_x = np.sqrt(variance_x)\n",
        "\n",
        "variance_y = np.dot(p_y, (y_values - expected_norm_y)**2)\n",
        "st_dev_y = np.sqrt(variance_y)\n",
        "\n",
        "print(\"Standard deviation for X: {:.2f}\".format(st_dev_x))\n",
        "print(\"Standard deviation for Y: {:.2f}\".format(st_dev_y))"
      ],
      "metadata": {
        "colab": {
          "base_uri": "https://localhost:8080/"
        },
        "id": "JXAGbDxA9pdi",
        "outputId": "1b701fdd-a051-426d-b102-cb756fbf3e0e"
      },
      "execution_count": null,
      "outputs": [
        {
          "output_type": "stream",
          "name": "stdout",
          "text": [
            "Standard deviation for X: 3.72\n",
            "Standard deviation for Y: 7.90\n"
          ]
        }
      ]
    },
    {
      "cell_type": "code",
      "source": [
        "# Cov_XY\n",
        "covariance = 0\n",
        "for i in range(len(x_values)):\n",
        "    for j in range(len(y_values)):\n",
        "        covariance += (x_values[i] - expected_norm_x) * (y_values[j] - expected_norm_y) * probabilities[i,j]\n",
        "\n",
        "print(\"Cov_XY:\", round(covariance,2))\n",
        "\n",
        "correlation = covariance / (st_dev_x*st_dev_y)\n",
        "\n",
        "def result_corr(a):\n",
        "    if a >=0.9:\n",
        "        return \"extra positive correlation\"\n",
        "    elif a >= 0.4:\n",
        "        return \"medium positive correlation\"\n",
        "    elif a > 0.1:\n",
        "        return \"low positive correlation\"\n",
        "    elif a >= -0.1 and  a <= 0.1:\n",
        "        return \"wo correlation\"\n",
        "    elif a < -0.1  and a <= -0.4:\n",
        "        return \"low negative correlation\"\n",
        "    elif a > -0.4 and a >= -0.9:\n",
        "        return \"medium negative correlation\"\n",
        "    else:\n",
        "        return \"strong negative correlation\"\n",
        "\n",
        "print(\"correlation: {:.2f} and result- {}\".format( correlation, result_corr(correlation)))"
      ],
      "metadata": {
        "colab": {
          "base_uri": "https://localhost:8080/"
        },
        "id": "ArbGAjV-9vnM",
        "outputId": "751b222d-23e1-4e8d-da30-04e33aaf8264"
      },
      "execution_count": null,
      "outputs": [
        {
          "output_type": "stream",
          "name": "stdout",
          "text": [
            "Cov_XY: -0.0\n",
            "correlation: -0.00 and result- wo correlation\n"
          ]
        }
      ]
    }
  ]
}